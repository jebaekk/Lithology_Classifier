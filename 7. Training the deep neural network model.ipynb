{
 "cells": [
  {
   "cell_type": "code",
   "execution_count": 1,
   "id": "mineral-journalist",
   "metadata": {},
   "outputs": [],
   "source": [
    "import numpy as np\n",
    "import os\n",
    "import pandas as pd\n",
    "np.random.seed(42)\n",
    "\n",
    "%matplotlib inline\n",
    "import matplotlib\n",
    "import matplotlib.pyplot as plt\n",
    "plt.rcParams['axes.labelsize'] = 14\n",
    "plt.rcParams['xtick.labelsize'] = 12\n",
    "plt.rcParams['ytick.labelsize'] = 12"
   ]
  },
  {
   "cell_type": "code",
   "execution_count": 2,
   "id": "d53b3652",
   "metadata": {},
   "outputs": [],
   "source": [
    "from sklearn import metrics\n",
    "from sklearn.metrics import accuracy_score, precision_score, recall_score, confusion_matrix, f1_score, roc_auc_score\n",
    "from sklearn.preprocessing import StandardScaler\n",
    "from tensorflow.keras.models import Sequential, load_model\n",
    "from tensorflow.keras.layers import Dense\n",
    "import tensorflow as tf\n",
    "from sklearn.model_selection import StratifiedKFold\n",
    "from keras.callbacks import EarlyStopping"
   ]
  },
  {
   "cell_type": "code",
   "execution_count": 3,
   "id": "unlike-title",
   "metadata": {},
   "outputs": [],
   "source": [
    "def get_clf_eval(y_test,pred=None, pred_proba=None):\n",
    "    confusion = confusion_matrix(y_test,pred)\n",
    "    accuracy = accuracy_score(y_test,pred)\n",
    "    precision = precision_score(y_test,pred, average = 'macro')\n",
    "    recall = recall_score(y_test,pred, average = 'macro')\n",
    "    f1 = f1_score(y_test, pred, average = 'macro')\n",
    "    roc_auc = roc_auc_score(y_test, pred_proba, average = 'macro', multi_class='ovr')\n",
    "    print('Confusion matrix')\n",
    "    print(confusion)\n",
    "    print('Accuracy:{0:.4f}, Precision:{1:.4f}, Recall:{2:.4f}, F1:{3:.4f}, AUC:{4:.4f}'.format(accuracy, precision, recall, f1, roc_auc))"
   ]
  },
  {
   "cell_type": "markdown",
   "id": "dimensional-celtic",
   "metadata": {},
   "source": [
    "### 1. Load train and test data"
   ]
  },
  {
   "cell_type": "code",
   "execution_count": 4,
   "id": "generous-found",
   "metadata": {},
   "outputs": [],
   "source": [
    "train_data = pd.read_csv(\"data/train_data_PCA.csv\", header=None)\n",
    "test_data = pd.read_csv(\"data/test_data_PCA.csv\", header=None)\n",
    "\n",
    "X_train = train_data.iloc[:,:2]\n",
    "y_train = train_data.iloc[:,2]\n",
    "\n",
    "X_test = test_data.iloc[:,:2]\n",
    "y_test = test_data.iloc[:,2]\n",
    "\n",
    "X_train_scaled = StandardScaler().fit_transform(X_train)\n",
    "X_test_scaled = StandardScaler().fit_transform(X_test)"
   ]
  },
  {
   "cell_type": "markdown",
   "id": "lyric-village",
   "metadata": {},
   "source": [
    "### 2. Training the DNN model"
   ]
  },
  {
   "cell_type": "code",
   "execution_count": 5,
   "id": "prescription-painting",
   "metadata": {},
   "outputs": [],
   "source": [
    "train_set = pd.DataFrame(X_train_scaled)\n",
    "train_set.loc[:,'Target'] = y_train"
   ]
  },
  {
   "cell_type": "code",
   "execution_count": 6,
   "id": "forbidden-organ",
   "metadata": {},
   "outputs": [],
   "source": [
    "test_set = pd.DataFrame(X_test_scaled)\n",
    "test_set.loc[:,'Target'] = y_test"
   ]
  },
  {
   "cell_type": "code",
   "execution_count": 8,
   "id": "incomplete-colony",
   "metadata": {
    "scrolled": true
   },
   "outputs": [
    {
     "name": "stdout",
     "output_type": "stream",
     "text": [
      "n_hidden_nodes: 10\n",
      "The order of 5-fold cross-validation: 1\n",
      "45/45 [==============================] - 0s 467us/step - loss: 0.2288 - accuracy: 0.9139\n",
      "The order of 5-fold cross-validation: 2\n",
      "45/45 [==============================] - 0s 467us/step - loss: 0.2599 - accuracy: 0.9056\n",
      "The order of 5-fold cross-validation: 3\n",
      "45/45 [==============================] - 0s 844us/step - loss: 0.2412 - accuracy: 0.9174\n",
      "The order of 5-fold cross-validation: 4\n",
      "45/45 [==============================] - 0s 467us/step - loss: 0.2408 - accuracy: 0.9167\n",
      "The order of 5-fold cross-validation: 5\n",
      "45/45 [==============================] - 0s 422us/step - loss: 0.2305 - accuracy: 0.9222\n",
      "n_hidden_nodes: 20\n",
      "The order of 5-fold cross-validation: 1\n",
      "45/45 [==============================] - 0s 1ms/step - loss: 0.2312 - accuracy: 0.9139\n",
      "The order of 5-fold cross-validation: 2\n",
      "45/45 [==============================] - 0s 400us/step - loss: 0.2590 - accuracy: 0.9076\n",
      "The order of 5-fold cross-validation: 3\n",
      " 1/45 [..............................] - ETA: 0s - loss: 0.0968 - accuracy: 1.0000WARNING:tensorflow:Callbacks method `on_test_batch_end` is slow compared to the batch time (batch time: 0.0000s vs `on_test_batch_end` time: 0.0010s). Check your callbacks.\n",
      "45/45 [==============================] - 0s 467us/step - loss: 0.2558 - accuracy: 0.9125\n",
      "The order of 5-fold cross-validation: 4\n",
      "45/45 [==============================] - 0s 400us/step - loss: 0.2872 - accuracy: 0.9139\n",
      "The order of 5-fold cross-validation: 5\n",
      "45/45 [==============================] - 0s 422us/step - loss: 0.2305 - accuracy: 0.9271\n",
      "n_hidden_nodes: 30\n",
      "The order of 5-fold cross-validation: 1\n",
      " 1/45 [..............................] - ETA: 0s - loss: 0.2272 - accuracy: 0.9375WARNING:tensorflow:Callbacks method `on_test_batch_end` is slow compared to the batch time (batch time: 0.0000s vs `on_test_batch_end` time: 0.0010s). Check your callbacks.\n",
      "45/45 [==============================] - 0s 422us/step - loss: 0.2277 - accuracy: 0.9118\n",
      "The order of 5-fold cross-validation: 2\n",
      "45/45 [==============================] - 0s 400us/step - loss: 0.2945 - accuracy: 0.9000\n",
      "The order of 5-fold cross-validation: 3\n",
      "45/45 [==============================] - 0s 378us/step - loss: 0.2588 - accuracy: 0.9118\n",
      "The order of 5-fold cross-validation: 4\n",
      "45/45 [==============================] - 0s 400us/step - loss: 0.2587 - accuracy: 0.9111\n",
      "The order of 5-fold cross-validation: 5\n",
      "45/45 [==============================] - 0s 378us/step - loss: 0.2416 - accuracy: 0.9257\n",
      "n_hidden_nodes: 40\n",
      "The order of 5-fold cross-validation: 1\n",
      "45/45 [==============================] - 0s 400us/step - loss: 0.2343 - accuracy: 0.9132\n",
      "The order of 5-fold cross-validation: 2\n",
      " 1/45 [..............................] - ETA: 0s - loss: 0.3258 - accuracy: 0.8750WARNING:tensorflow:Callbacks method `on_test_batch_end` is slow compared to the batch time (batch time: 0.0000s vs `on_test_batch_end` time: 0.0010s). Check your callbacks.\n",
      "45/45 [==============================] - 0s 444us/step - loss: 0.3148 - accuracy: 0.9042\n",
      "The order of 5-fold cross-validation: 3\n",
      "45/45 [==============================] - 0s 400us/step - loss: 0.2765 - accuracy: 0.9111\n",
      "The order of 5-fold cross-validation: 4\n",
      "45/45 [==============================] - 0s 400us/step - loss: 0.2740 - accuracy: 0.9118\n",
      "The order of 5-fold cross-validation: 5\n",
      "45/45 [==============================] - 0s 444us/step - loss: 0.2448 - accuracy: 0.9229\n",
      "number of hidden nodes: 10 , Average accuracy: 0.9151\n",
      "number of hidden nodes: 20 , Average accuracy: 0.9150\n",
      "number of hidden nodes: 30 , Average accuracy: 0.9121\n",
      "number of hidden nodes: 40 , Average accuracy: 0.9126\n",
      "Best parameters: {'n_hidden_nodes': 10}\n",
      "Highest accuracy: 0.9151\n"
     ]
    }
   ],
   "source": [
    "from keras.utils import np_utils\n",
    "skf = StratifiedKFold(n_splits=5, shuffle=True, random_state=42)\n",
    "\n",
    "DNN_accuracy = []\n",
    "cond_accuracy = []\n",
    "avg_accuracy = []\n",
    "best_score = 0\n",
    "order = 0\n",
    "n_hidden_nodes = [10, 20, 30, 40]\n",
    "n = {0, 1, 2, 3}\n",
    "\n",
    "for nodes in n_hidden_nodes:\n",
    "    \n",
    "    print(\"n_hidden_nodes:\", nodes)\n",
    "    \n",
    "    for train, valid in skf.split(train_set, train_set[\"Target\"]):\n",
    "        \n",
    "        order = order + 1\n",
    "        \n",
    "        print(\"The order of 5-fold cross-validation:\", order)\n",
    "        \n",
    "        strat_k_train_set = train_set.iloc[train]\n",
    "        strat_k_valid_set = train_set.iloc[valid]\n",
    "\n",
    "        X_train = strat_k_train_set.drop([\"Target\"], axis=1)\n",
    "        X_valid = strat_k_valid_set.drop([\"Target\"], axis=1)\n",
    "        y_train = strat_k_train_set[\"Target\"].copy()\n",
    "        y_valid = strat_k_valid_set[\"Target\"].copy()\n",
    "        \n",
    "        \n",
    "        y_train_encoded = np_utils.to_categorical(y_train)\n",
    "        y_valid_encoded = np_utils.to_categorical(y_valid)\n",
    "        \n",
    "        # DNN model configuration\n",
    "        model = Sequential()\n",
    "        model.add(Dense(nodes, input_dim=2, activation='relu'))\n",
    "        model.add(Dense(nodes, activation='relu'))\n",
    "        model.add(Dense(4, activation='softmax'))\n",
    "        model.compile(loss='categorical_crossentropy', optimizer='adam', metrics=['accuracy'])\n",
    "        early_stopping_callback = EarlyStopping(monitor='loss', patience=100, verbose=0)\n",
    "        \n",
    "        \n",
    "        model.fit(X_train,y_train_encoded, validation_data=(X_valid, y_valid_encoded), epochs=500, \n",
    "                  batch_size=5, verbose=0, callbacks=[early_stopping_callback])\n",
    "        accuracy = model.evaluate(X_valid,y_valid_encoded)[1]\n",
    "        DNN_accuracy.append(accuracy)\n",
    "             \n",
    "    avg_accuracy = sum(DNN_accuracy)/len(DNN_accuracy)\n",
    "    cond_accuracy.append(avg_accuracy)\n",
    "    DNN_accuracy = []\n",
    "    \n",
    "    if best_score < avg_accuracy:\n",
    "        best_score = avg_accuracy\n",
    "        best_parameters = {'n_hidden_nodes': nodes}\n",
    "        best_model = model\n",
    "\n",
    "    order = 0\n",
    "\n",
    "for i in n:\n",
    "    print(\"number of hidden nodes:\", n_hidden_nodes[i], \", Average accuracy: {:.4f}\".format(cond_accuracy[i]))\n",
    "\n",
    "print(\"Best parameters:\", best_parameters)\n",
    "print(\"Highest accuracy: {:.4f}\".format(best_score))"
   ]
  },
  {
   "cell_type": "markdown",
   "id": "interpreted-plate",
   "metadata": {},
   "source": [
    "### 3. Test the DNN model"
   ]
  },
  {
   "cell_type": "code",
   "execution_count": 9,
   "id": "restricted-clearing",
   "metadata": {},
   "outputs": [],
   "source": [
    "X_train = train_set.iloc[:,:2]\n",
    "y_train = train_set.iloc[:,2]\n",
    "\n",
    "X_test = test_set.iloc[:,:2]\n",
    "y_test = test_set.iloc[:,2]\n",
    "\n",
    "y_train_encoded = np_utils.to_categorical(y_train)\n",
    "y_test_encoded = np_utils.to_categorical(y_test)"
   ]
  },
  {
   "cell_type": "code",
   "execution_count": 15,
   "id": "reliable-saturday",
   "metadata": {},
   "outputs": [
    {
     "name": "stdout",
     "output_type": "stream",
     "text": [
      "17/17 [==============================] - 0s 471us/step - loss: 0.3367 - accuracy: 0.8724\n",
      "accuracy for predicting test data: 0.8724\n"
     ]
    }
   ],
   "source": [
    "model = Sequential()\n",
    "model.add(Dense(10, input_dim=2, activation='relu'))\n",
    "model.add(Dense(10, activation='relu'))\n",
    "model.add(Dense(4, activation='softmax'))\n",
    "model.compile(loss='categorical_crossentropy', optimizer='adam', metrics=['accuracy'])\n",
    "        \n",
    "model.fit(X_train,y_train_encoded, epochs=500, batch_size=5, verbose=0)\n",
    "accuracy = model.evaluate(X_test,y_test_encoded)[1]\n",
    "\n",
    "print(\"accuracy for predicting test data: {:.4f}\".format(accuracy)) "
   ]
  },
  {
   "cell_type": "code",
   "execution_count": 16,
   "id": "accessory-bradford",
   "metadata": {},
   "outputs": [
    {
     "name": "stdout",
     "output_type": "stream",
     "text": [
      "Confusion matrix\n",
      "[[109   0  27  16]\n",
      " [  0 120  15   0]\n",
      " [  4   5 110   1]\n",
      " [  0   0   0 126]]\n",
      "Accuracy:0.8724, Precision:0.8824, Recall:0.8807, F1:0.8728, AUC:0.9832\n"
     ]
    }
   ],
   "source": [
    "preds = model.predict(X_test)\n",
    "preds_decod = np.argmax(preds, axis=1).reshape(-1,1)\n",
    "get_clf_eval(y_test, preds_decod, preds)"
   ]
  },
  {
   "cell_type": "code",
   "execution_count": 17,
   "id": "5f5efe3c",
   "metadata": {},
   "outputs": [
    {
     "name": "stdout",
     "output_type": "stream",
     "text": [
      "              precision    recall  f1-score   support\n",
      "\n",
      "           0     0.9646    0.7171    0.8226       152\n",
      "           1     0.9600    0.8889    0.9231       135\n",
      "           2     0.7237    0.9167    0.8088       120\n",
      "           3     0.8811    1.0000    0.9368       126\n",
      "\n",
      "    accuracy                         0.8724       533\n",
      "   macro avg     0.8824    0.8807    0.8728       533\n",
      "weighted avg     0.8895    0.8724    0.8720       533\n",
      "\n"
     ]
    }
   ],
   "source": [
    "print(metrics.classification_report(y_test, preds_decod, digits=4))"
   ]
  },
  {
   "cell_type": "code",
   "execution_count": 18,
   "id": "4e509f75",
   "metadata": {},
   "outputs": [],
   "source": [
    "test_preds = preds_decod.reshape(-1)"
   ]
  },
  {
   "cell_type": "code",
   "execution_count": 19,
   "id": "mediterranean-florence",
   "metadata": {},
   "outputs": [
    {
     "data": {
      "text/plain": [
       "(array([-2. , -1.5, -1. , -0.5,  0. ,  0.5,  1. ,  1.5,  2. ,  2.5]),\n",
       " <a list of 10 Text xticklabel objects>)"
      ]
     },
     "execution_count": 19,
     "metadata": {},
     "output_type": "execute_result"
    },
    {
     "data": {
      "image/png": "[encoded data removed]",
      "text/plain": [
       "<Figure size 576x576 with 1 Axes>"
      ]
     },
     "metadata": {
      "needs_background": "light"
     },
     "output_type": "display_data"
    }
   ],
   "source": [
    "import mglearn\n",
    "\n",
    "plt.figure(figsize=(8, 8))\n",
    "mglearn.discrete_scatter(X_test_scaled[:,0], X_test_scaled[:,1], test_preds)\n",
    "plt.legend([\"GA\", \"HO\", \"LO\", \"QMD\"], loc=\"best\")\n",
    "plt.gca().set_aspect(\"equal\")\n",
    "plt.xlabel(\"PC1\")\n",
    "plt.ylabel(\"PC2\")\n",
    "plt.xticks(fontsize=10)"
   ]
  }
 ],
 "metadata": {
  "kernelspec": {
   "display_name": "kernel",
   "language": "python",
   "name": "tutorial"
  },
  "language_info": {
   "codemirror_mode": {
    "name": "ipython",
    "version": 3
   },
   "file_extension": ".py",
   "mimetype": "text/x-python",
   "name": "python",
   "nbconvert_exporter": "python",
   "pygments_lexer": "ipython3",
   "version": "3.8.13"
  }
 },
 "nbformat": 4,
 "nbformat_minor": 5
}

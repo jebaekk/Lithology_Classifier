{
 "cells": [
  {
   "cell_type": "code",
   "execution_count": 1,
   "id": "alleged-charger",
   "metadata": {},
   "outputs": [],
   "source": [
    "import numpy as np\n",
    "import os\n",
    "import pandas as pd\n",
    "np.random.seed(42)\n",
    "\n",
    "%matplotlib inline\n",
    "import matplotlib\n",
    "import matplotlib.pyplot as plt\n",
    "plt.rcParams['axes.labelsize'] = 14\n",
    "plt.rcParams['xtick.labelsize'] = 12\n",
    "plt.rcParams['ytick.labelsize'] = 12"
   ]
  },
  {
   "cell_type": "code",
   "execution_count": 2,
   "id": "3e953eba",
   "metadata": {},
   "outputs": [],
   "source": [
    "from sklearn import metrics\n",
    "from sklearn.metrics import accuracy_score, precision_score, recall_score, confusion_matrix, f1_score, roc_auc_score\n",
    "from sklearn.ensemble import RandomForestClassifier\n",
    "from sklearn.model_selection import StratifiedKFold\n",
    "from sklearn.model_selection import StratifiedShuffleSplit\n",
    "from sklearn.model_selection import GridSearchCV\n",
    "from sklearn.metrics import accuracy_score\n",
    "from sklearn.preprocessing import StandardScaler"
   ]
  },
  {
   "cell_type": "code",
   "execution_count": 3,
   "id": "intensive-animation",
   "metadata": {},
   "outputs": [],
   "source": [
    "# Confusion matrix generation\n",
    "def get_clf_eval(y_test,pred=None, pred_proba=None):\n",
    "    confusion = confusion_matrix(y_test,pred)\n",
    "    accuracy = accuracy_score(y_test,pred)\n",
    "    precision = precision_score(y_test,pred, average = 'macro')\n",
    "    recall = recall_score(y_test,pred, average = 'macro')\n",
    "    f1 = f1_score(y_test, pred, average = 'macro')\n",
    "    roc_auc = roc_auc_score(y_test, pred_proba, average = 'macro', multi_class='ovr')\n",
    "    print('Confusion matrix')\n",
    "    print(confusion)\n",
    "    print('Accuracy:{0:.4f}, Precision:{1:.4f}, Recall:{2:.4f}, F1:{3:.4f}, AUC:{4:.4f}'.format(accuracy, precision, recall, f1, roc_auc))"
   ]
  },
  {
   "cell_type": "markdown",
   "id": "quarterly-evanescence",
   "metadata": {},
   "source": [
    "### 1. Load train and test data"
   ]
  },
  {
   "cell_type": "code",
   "execution_count": 4,
   "id": "exclusive-audit",
   "metadata": {},
   "outputs": [],
   "source": [
    "train_data = pd.read_csv(\"data/train_data_PCA.csv\", header=None)\n",
    "test_data = pd.read_csv(\"data/test_data_PCA.csv\", header=None)\n",
    "\n",
    "X_train = train_data.iloc[:,:2]\n",
    "y_train = train_data.iloc[:,2]\n",
    "\n",
    "X_test = test_data.iloc[:,:2]\n",
    "y_test = test_data.iloc[:,2]\n",
    "\n",
    "X_train_scaled = StandardScaler().fit_transform(X_train)\n",
    "X_test_scaled = StandardScaler().fit_transform(X_test)"
   ]
  },
  {
   "cell_type": "markdown",
   "id": "cubic-strengthening",
   "metadata": {},
   "source": [
    "### 2. Training random forest model"
   ]
  },
  {
   "cell_type": "code",
   "execution_count": 5,
   "id": "greatest-burke",
   "metadata": {
    "scrolled": true
   },
   "outputs": [
    {
     "data": {
      "text/html": [
       "<div>\n",
       "<style scoped>\n",
       "    .dataframe tbody tr th:only-of-type {\n",
       "        vertical-align: middle;\n",
       "    }\n",
       "\n",
       "    .dataframe tbody tr th {\n",
       "        vertical-align: top;\n",
       "    }\n",
       "\n",
       "    .dataframe thead th {\n",
       "        text-align: right;\n",
       "    }\n",
       "</style>\n",
       "<table border=\"1\" class=\"dataframe\">\n",
       "  <thead>\n",
       "    <tr style=\"text-align: right;\">\n",
       "      <th></th>\n",
       "      <th>params</th>\n",
       "      <th>mean_test_score</th>\n",
       "      <th>rank_test_score</th>\n",
       "      <th>split0_test_score</th>\n",
       "      <th>split1_test_score</th>\n",
       "      <th>split2_test_score</th>\n",
       "      <th>split3_test_score</th>\n",
       "      <th>split4_test_score</th>\n",
       "    </tr>\n",
       "  </thead>\n",
       "  <tbody>\n",
       "    <tr>\n",
       "      <th>0</th>\n",
       "      <td>{'max_depth': 4, 'min_samples_leaf': 6, 'min_s...</td>\n",
       "      <td>0.885000</td>\n",
       "      <td>287</td>\n",
       "      <td>0.873611</td>\n",
       "      <td>0.881944</td>\n",
       "      <td>0.883333</td>\n",
       "      <td>0.895139</td>\n",
       "      <td>0.890972</td>\n",
       "    </tr>\n",
       "    <tr>\n",
       "      <th>1</th>\n",
       "      <td>{'max_depth': 4, 'min_samples_leaf': 6, 'min_s...</td>\n",
       "      <td>0.885556</td>\n",
       "      <td>278</td>\n",
       "      <td>0.877778</td>\n",
       "      <td>0.876389</td>\n",
       "      <td>0.884722</td>\n",
       "      <td>0.897222</td>\n",
       "      <td>0.891667</td>\n",
       "    </tr>\n",
       "    <tr>\n",
       "      <th>2</th>\n",
       "      <td>{'max_depth': 4, 'min_samples_leaf': 6, 'min_s...</td>\n",
       "      <td>0.884306</td>\n",
       "      <td>297</td>\n",
       "      <td>0.873611</td>\n",
       "      <td>0.875000</td>\n",
       "      <td>0.886806</td>\n",
       "      <td>0.893750</td>\n",
       "      <td>0.892361</td>\n",
       "    </tr>\n",
       "    <tr>\n",
       "      <th>3</th>\n",
       "      <td>{'max_depth': 4, 'min_samples_leaf': 6, 'min_s...</td>\n",
       "      <td>0.885694</td>\n",
       "      <td>267</td>\n",
       "      <td>0.873611</td>\n",
       "      <td>0.877083</td>\n",
       "      <td>0.887500</td>\n",
       "      <td>0.893750</td>\n",
       "      <td>0.896528</td>\n",
       "    </tr>\n",
       "    <tr>\n",
       "      <th>4</th>\n",
       "      <td>{'max_depth': 4, 'min_samples_leaf': 6, 'min_s...</td>\n",
       "      <td>0.885694</td>\n",
       "      <td>267</td>\n",
       "      <td>0.873611</td>\n",
       "      <td>0.877778</td>\n",
       "      <td>0.887500</td>\n",
       "      <td>0.894444</td>\n",
       "      <td>0.895139</td>\n",
       "    </tr>\n",
       "    <tr>\n",
       "      <th>...</th>\n",
       "      <td>...</td>\n",
       "      <td>...</td>\n",
       "      <td>...</td>\n",
       "      <td>...</td>\n",
       "      <td>...</td>\n",
       "      <td>...</td>\n",
       "      <td>...</td>\n",
       "      <td>...</td>\n",
       "    </tr>\n",
       "    <tr>\n",
       "      <th>295</th>\n",
       "      <td>{'max_depth': 12, 'min_samples_leaf': 18, 'min...</td>\n",
       "      <td>0.912222</td>\n",
       "      <td>153</td>\n",
       "      <td>0.909028</td>\n",
       "      <td>0.906250</td>\n",
       "      <td>0.903472</td>\n",
       "      <td>0.917361</td>\n",
       "      <td>0.925000</td>\n",
       "    </tr>\n",
       "    <tr>\n",
       "      <th>296</th>\n",
       "      <td>{'max_depth': 12, 'min_samples_leaf': 18, 'min...</td>\n",
       "      <td>0.910278</td>\n",
       "      <td>196</td>\n",
       "      <td>0.910417</td>\n",
       "      <td>0.903472</td>\n",
       "      <td>0.902778</td>\n",
       "      <td>0.915278</td>\n",
       "      <td>0.919444</td>\n",
       "    </tr>\n",
       "    <tr>\n",
       "      <th>297</th>\n",
       "      <td>{'max_depth': 12, 'min_samples_leaf': 18, 'min...</td>\n",
       "      <td>0.910417</td>\n",
       "      <td>193</td>\n",
       "      <td>0.909028</td>\n",
       "      <td>0.904861</td>\n",
       "      <td>0.903472</td>\n",
       "      <td>0.914583</td>\n",
       "      <td>0.920139</td>\n",
       "    </tr>\n",
       "    <tr>\n",
       "      <th>298</th>\n",
       "      <td>{'max_depth': 12, 'min_samples_leaf': 18, 'min...</td>\n",
       "      <td>0.911528</td>\n",
       "      <td>166</td>\n",
       "      <td>0.911111</td>\n",
       "      <td>0.905556</td>\n",
       "      <td>0.904861</td>\n",
       "      <td>0.916667</td>\n",
       "      <td>0.919444</td>\n",
       "    </tr>\n",
       "    <tr>\n",
       "      <th>299</th>\n",
       "      <td>{'max_depth': 12, 'min_samples_leaf': 18, 'min...</td>\n",
       "      <td>0.911389</td>\n",
       "      <td>175</td>\n",
       "      <td>0.911806</td>\n",
       "      <td>0.905556</td>\n",
       "      <td>0.905556</td>\n",
       "      <td>0.913889</td>\n",
       "      <td>0.920139</td>\n",
       "    </tr>\n",
       "  </tbody>\n",
       "</table>\n",
       "<p>300 rows × 8 columns</p>\n",
       "</div>"
      ],
      "text/plain": [
       "                                                params  mean_test_score  \\\n",
       "0    {'max_depth': 4, 'min_samples_leaf': 6, 'min_s...         0.885000   \n",
       "1    {'max_depth': 4, 'min_samples_leaf': 6, 'min_s...         0.885556   \n",
       "2    {'max_depth': 4, 'min_samples_leaf': 6, 'min_s...         0.884306   \n",
       "3    {'max_depth': 4, 'min_samples_leaf': 6, 'min_s...         0.885694   \n",
       "4    {'max_depth': 4, 'min_samples_leaf': 6, 'min_s...         0.885694   \n",
       "..                                                 ...              ...   \n",
       "295  {'max_depth': 12, 'min_samples_leaf': 18, 'min...         0.912222   \n",
       "296  {'max_depth': 12, 'min_samples_leaf': 18, 'min...         0.910278   \n",
       "297  {'max_depth': 12, 'min_samples_leaf': 18, 'min...         0.910417   \n",
       "298  {'max_depth': 12, 'min_samples_leaf': 18, 'min...         0.911528   \n",
       "299  {'max_depth': 12, 'min_samples_leaf': 18, 'min...         0.911389   \n",
       "\n",
       "     rank_test_score  split0_test_score  split1_test_score  split2_test_score  \\\n",
       "0                287           0.873611           0.881944           0.883333   \n",
       "1                278           0.877778           0.876389           0.884722   \n",
       "2                297           0.873611           0.875000           0.886806   \n",
       "3                267           0.873611           0.877083           0.887500   \n",
       "4                267           0.873611           0.877778           0.887500   \n",
       "..               ...                ...                ...                ...   \n",
       "295              153           0.909028           0.906250           0.903472   \n",
       "296              196           0.910417           0.903472           0.902778   \n",
       "297              193           0.909028           0.904861           0.903472   \n",
       "298              166           0.911111           0.905556           0.904861   \n",
       "299              175           0.911806           0.905556           0.905556   \n",
       "\n",
       "     split3_test_score  split4_test_score  \n",
       "0             0.895139           0.890972  \n",
       "1             0.897222           0.891667  \n",
       "2             0.893750           0.892361  \n",
       "3             0.893750           0.896528  \n",
       "4             0.894444           0.895139  \n",
       "..                 ...                ...  \n",
       "295           0.917361           0.925000  \n",
       "296           0.915278           0.919444  \n",
       "297           0.914583           0.920139  \n",
       "298           0.916667           0.919444  \n",
       "299           0.913889           0.920139  \n",
       "\n",
       "[300 rows x 8 columns]"
      ]
     },
     "execution_count": 5,
     "metadata": {},
     "output_type": "execute_result"
    }
   ],
   "source": [
    "# Grid search for determining optimal paramters\n",
    "param = {'n_estimators':[20, 40, 60, 80, 100],\n",
    "         'max_depth':[4, 6, 8, 10, 12],\n",
    "         'min_samples_leaf':[6, 8, 12, 18],\n",
    "         'min_samples_split':[8, 16, 20]}\n",
    "\n",
    "rf_clf = RandomForestClassifier(random_state=0, n_jobs=-1)\n",
    "grid_cv = GridSearchCV(rf_clf, param_grid=param, cv=5, n_jobs=-1)\n",
    "grid_cv.fit(X_train_scaled, y_train)\n",
    "\n",
    "scores_df = pd.DataFrame(grid_cv.cv_results_)\n",
    "scores_df[['params', 'mean_test_score', 'rank_test_score', 'split0_test_score', \n",
    "           'split1_test_score', 'split2_test_score', 'split3_test_score', 'split4_test_score']]"
   ]
  },
  {
   "cell_type": "code",
   "execution_count": 6,
   "id": "subject-database",
   "metadata": {},
   "outputs": [
    {
     "name": "stdout",
     "output_type": "stream",
     "text": [
      "GridSearchCV optimal paramters: {'max_depth': 10, 'min_samples_leaf': 6, 'min_samples_split': 8, 'n_estimators': 100}\n",
      "GridSearchCV the highest accuracy:0.9183\n"
     ]
    }
   ],
   "source": [
    "print(\"GridSearchCV optimal paramters:\", grid_cv.best_params_)\n",
    "print(\"GridSearchCV the highest accuracy:{0:.4f}\".format(grid_cv.best_score_))"
   ]
  },
  {
   "cell_type": "markdown",
   "id": "incorrect-hawaii",
   "metadata": {},
   "source": [
    "### 3. Test the RF model"
   ]
  },
  {
   "cell_type": "code",
   "execution_count": 7,
   "id": "bizarre-subsection",
   "metadata": {},
   "outputs": [],
   "source": [
    "estimator = grid_cv.best_estimator_  # optimal RF model\n",
    " \n",
    "preds = estimator.predict(X_test_scaled)  # prediction results\n",
    "pred_probs = estimator.predict_proba(X_test)"
   ]
  },
  {
   "cell_type": "code",
   "execution_count": 8,
   "id": "incident-albert",
   "metadata": {},
   "outputs": [
    {
     "name": "stdout",
     "output_type": "stream",
     "text": [
      "Confusion matrix\n",
      "[[114   0  25  13]\n",
      " [  0 118  17   0]\n",
      " [  2   5 112   1]\n",
      " [  0   0   0 126]]\n",
      "Accuracy:0.8818, Precision:0.8923, Recall:0.8894, F1:0.8826, AUC:0.7423\n"
     ]
    }
   ],
   "source": [
    "get_clf_eval(y_test, preds, pred_probs)"
   ]
  },
  {
   "cell_type": "code",
   "execution_count": 9,
   "id": "apart-trustee",
   "metadata": {},
   "outputs": [
    {
     "data": {
      "text/plain": [
       "<matplotlib.axes._subplots.AxesSubplot at 0x18588123ac0>"
      ]
     },
     "execution_count": 9,
     "metadata": {},
     "output_type": "execute_result"
    },
    {
     "data": {
      "image/png": "[encoded data removed]",
      "text/plain": [
       "<Figure size 432x288 with 2 Axes>"
      ]
     },
     "metadata": {
      "needs_background": "light"
     },
     "output_type": "display_data"
    }
   ],
   "source": [
    "import seaborn as sns\n",
    "cf_matrix = confusion_matrix(y_test,preds)\n",
    "\n",
    "group_counts = [\"{0:0.0f}\".format(value) for value in\n",
    "                cf_matrix.flatten()]\n",
    "labels = np.asarray(group_counts).reshape(4,4)\n",
    "sns.heatmap(cf_matrix, annot=labels, fmt='', cmap='Greens')"
   ]
  },
  {
   "cell_type": "code",
   "execution_count": 10,
   "id": "removed-charter",
   "metadata": {},
   "outputs": [
    {
     "name": "stdout",
     "output_type": "stream",
     "text": [
      "              precision    recall  f1-score   support\n",
      "\n",
      "           0     0.9828    0.7500    0.8507       152\n",
      "           1     0.9593    0.8741    0.9147       135\n",
      "           2     0.7273    0.9333    0.8175       120\n",
      "           3     0.9000    1.0000    0.9474       126\n",
      "\n",
      "    accuracy                         0.8818       533\n",
      "   macro avg     0.8923    0.8894    0.8826       533\n",
      "weighted avg     0.8997    0.8818    0.8823       533\n",
      "\n"
     ]
    }
   ],
   "source": [
    "print(metrics.classification_report(y_test, preds, digits=4))"
   ]
  },
  {
   "cell_type": "code",
   "execution_count": 11,
   "id": "creative-personal",
   "metadata": {},
   "outputs": [
    {
     "data": {
      "text/plain": [
       "Text(0, 0.5, 'PC2')"
      ]
     },
     "execution_count": 11,
     "metadata": {},
     "output_type": "execute_result"
    },
    {
     "data": {
      "image/png": "[encoded data removed]",
      "text/plain": [
       "<Figure size 576x576 with 1 Axes>"
      ]
     },
     "metadata": {
      "needs_background": "light"
     },
     "output_type": "display_data"
    }
   ],
   "source": [
    "import mglearn\n",
    "\n",
    "plt.figure(figsize=(8, 8))\n",
    "mglearn.discrete_scatter(X_test_scaled[:,0], X_test_scaled[:,1], preds)\n",
    "plt.legend([\"GA\", \"HO\", \"LO\", \"QMD\"], loc=\"best\")\n",
    "plt.gca().set_aspect(\"equal\")\n",
    "plt.xlabel(\"PC1\")\n",
    "plt.ylabel(\"PC2\")"
   ]
  }
 ],
 "metadata": {
  "kernelspec": {
   "display_name": "kernel",
   "language": "python",
   "name": "tutorial"
  },
  "language_info": {
   "codemirror_mode": {
    "name": "ipython",
    "version": 3
   },
   "file_extension": ".py",
   "mimetype": "text/x-python",
   "name": "python",
   "nbconvert_exporter": "python",
   "pygments_lexer": "ipython3",
   "version": "3.8.13"
  }
 },
 "nbformat": 4,
 "nbformat_minor": 5
}

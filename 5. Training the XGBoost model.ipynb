{
 "cells": [
  {
   "cell_type": "code",
   "execution_count": 1,
   "id": "junior-channels",
   "metadata": {},
   "outputs": [],
   "source": [
    "import numpy as np\n",
    "import os\n",
    "import pandas as pd\n",
    "np.random.seed(42)\n",
    "\n",
    "%matplotlib inline\n",
    "import matplotlib\n",
    "import matplotlib.pyplot as plt\n",
    "plt.rcParams['axes.labelsize'] = 14\n",
    "plt.rcParams['xtick.labelsize'] = 12\n",
    "plt.rcParams['ytick.labelsize'] = 12"
   ]
  },
  {
   "cell_type": "code",
   "execution_count": 2,
   "id": "8a3dfe0b",
   "metadata": {},
   "outputs": [],
   "source": [
    "from sklearn import metrics\n",
    "from sklearn.metrics import accuracy_score, precision_score, recall_score, confusion_matrix, f1_score, roc_auc_score\n",
    "import xgboost as xgb\n",
    "from xgboost import XGBClassifier\n",
    "from xgboost import plot_importance\n",
    "from sklearn.metrics import accuracy_score\n",
    "from sklearn.model_selection import GridSearchCV\n",
    "from sklearn.preprocessing import StandardScaler"
   ]
  },
  {
   "cell_type": "code",
   "execution_count": 3,
   "id": "constitutional-necklace",
   "metadata": {},
   "outputs": [],
   "source": [
    "# Confusion matrix generation\n",
    "def get_clf_eval(y_test,pred=None, pred_proba=None):\n",
    "    confusion = confusion_matrix(y_test,pred)\n",
    "    accuracy = accuracy_score(y_test,pred)\n",
    "    precision = precision_score(y_test,pred, average = 'macro')\n",
    "    recall = recall_score(y_test,pred, average = 'macro')\n",
    "    f1 = f1_score(y_test, pred, average = 'macro')\n",
    "    roc_auc = roc_auc_score(y_test, pred_proba, average = 'macro', multi_class='ovr')\n",
    "    print('Confusion matrix')\n",
    "    print(confusion)\n",
    "    print('Accuracy:{0:.4f}, Precision:{1:.4f}, Recall:{2:.4f}, F1:{3:.4f}, AUC:{4:.4f}'.format(accuracy, precision, recall, f1, roc_auc))"
   ]
  },
  {
   "cell_type": "markdown",
   "id": "finished-browser",
   "metadata": {},
   "source": [
    "### 1. Load train and test data"
   ]
  },
  {
   "cell_type": "code",
   "execution_count": 4,
   "id": "fuzzy-singer",
   "metadata": {},
   "outputs": [],
   "source": [
    "train_data = pd.read_csv(\"data/train_data_PCA.csv\", header=None)\n",
    "test_data = pd.read_csv(\"data/test_data_PCA.csv\", header=None)\n",
    "\n",
    "X_train = train_data.iloc[:,:2]\n",
    "y_train = train_data.iloc[:,2]\n",
    "\n",
    "X_test = test_data.iloc[:,:2]\n",
    "y_test = test_data.iloc[:,2]\n",
    "\n",
    "X_train_scaled = StandardScaler().fit_transform(X_train)\n",
    "X_test_scaled = StandardScaler().fit_transform(X_test)"
   ]
  },
  {
   "cell_type": "markdown",
   "id": "contrary-grave",
   "metadata": {},
   "source": [
    "### 2. Train the XGBoost model"
   ]
  },
  {
   "cell_type": "code",
   "execution_count": 5,
   "id": "executive-exhaust",
   "metadata": {
    "scrolled": true
   },
   "outputs": [],
   "source": [
    "xgb_clf = XGBClassifier(objective = 'multiclass', num_class='4', early_stopping = 100)\n",
    "\n",
    "params = {'max_depth': range(4, 12, 2),\n",
    "          'n_estimators': range(60, 200, 20),\n",
    "          'learning_rate': [0.1, 0.01, 0.05]}"
   ]
  },
  {
   "cell_type": "code",
   "execution_count": 6,
   "id": "b9365239",
   "metadata": {
    "scrolled": true
   },
   "outputs": [
    {
     "name": "stdout",
     "output_type": "stream",
     "text": [
      "Fitting 5 folds for each of 84 candidates, totalling 420 fits\n",
      "[15:11:33] WARNING: C:/Users/Administrator/workspace/xgboost-win64_release_1.6.0/src/learner.cc:627: \n",
      "Parameters: { \"early_stopping\" } might not be used.\n",
      "\n",
      "  This could be a false alarm, with some parameters getting used by language bindings but\n",
      "  then being mistakenly passed down to XGBoost core, or some parameter actually being used\n",
      "  but getting flagged wrongly here. Please open an issue if you find any such cases.\n",
      "\n",
      "\n"
     ]
    },
    {
     "data": {
      "text/plain": [
       "GridSearchCV(cv=5,\n",
       "             estimator=XGBClassifier(base_score=None, booster=None,\n",
       "                                     callbacks=None, colsample_bylevel=None,\n",
       "                                     colsample_bynode=None,\n",
       "                                     colsample_bytree=None, early_stopping=100,\n",
       "                                     early_stopping_rounds=None,\n",
       "                                     enable_categorical=False, eval_metric=None,\n",
       "                                     gamma=None, gpu_id=None, grow_policy=None,\n",
       "                                     importance_type=None,\n",
       "                                     interaction_constraints=None,\n",
       "                                     learning_rate=None,...\n",
       "                                     max_delta_step=None, max_depth=None,\n",
       "                                     max_leaves=None, min_child_weight=None,\n",
       "                                     missing=nan, monotone_constraints=None,\n",
       "                                     n_estimators=100, n_jobs=None,\n",
       "                                     num_class='4', num_parallel_tree=None,\n",
       "                                     objective='multiclass', predictor=None, ...),\n",
       "             n_jobs=-1,\n",
       "             param_grid={'learning_rate': [0.1, 0.01, 0.05],\n",
       "                         'max_depth': range(4, 12, 2),\n",
       "                         'n_estimators': range(60, 200, 20)},\n",
       "             scoring='accuracy', verbose=True)"
      ]
     },
     "execution_count": 6,
     "metadata": {},
     "output_type": "execute_result"
    }
   ],
   "source": [
    "grid_search = GridSearchCV(estimator = xgb_clf, param_grid = params, scoring = 'accuracy', n_jobs=-1, cv = 5, verbose=True)\n",
    "grid_search.fit(X_train_scaled, y_train)"
   ]
  },
  {
   "cell_type": "code",
   "execution_count": 7,
   "id": "interim-headset",
   "metadata": {},
   "outputs": [
    {
     "name": "stdout",
     "output_type": "stream",
     "text": [
      "GridSearchCV optimal paramters: {'learning_rate': 0.05, 'max_depth': 4, 'n_estimators': 80}\n",
      "GridSearchCV the highest accuracy:0.9158\n"
     ]
    }
   ],
   "source": [
    "print(\"GridSearchCV optimal paramters:\", grid_search.best_params_)\n",
    "print(\"GridSearchCV the highest accuracy:{0:.4f}\".format(grid_search.best_score_))"
   ]
  },
  {
   "cell_type": "code",
   "execution_count": 8,
   "id": "coordinate-cleveland",
   "metadata": {},
   "outputs": [
    {
     "data": {
      "text/html": [
       "<div>\n",
       "<style scoped>\n",
       "    .dataframe tbody tr th:only-of-type {\n",
       "        vertical-align: middle;\n",
       "    }\n",
       "\n",
       "    .dataframe tbody tr th {\n",
       "        vertical-align: top;\n",
       "    }\n",
       "\n",
       "    .dataframe thead th {\n",
       "        text-align: right;\n",
       "    }\n",
       "</style>\n",
       "<table border=\"1\" class=\"dataframe\">\n",
       "  <thead>\n",
       "    <tr style=\"text-align: right;\">\n",
       "      <th></th>\n",
       "      <th>params</th>\n",
       "      <th>mean_test_score</th>\n",
       "      <th>rank_test_score</th>\n",
       "      <th>split0_test_score</th>\n",
       "      <th>split1_test_score</th>\n",
       "      <th>split2_test_score</th>\n",
       "      <th>split3_test_score</th>\n",
       "      <th>split4_test_score</th>\n",
       "    </tr>\n",
       "  </thead>\n",
       "  <tbody>\n",
       "    <tr>\n",
       "      <th>0</th>\n",
       "      <td>{'learning_rate': 0.1, 'max_depth': 4, 'n_esti...</td>\n",
       "      <td>0.915278</td>\n",
       "      <td>3</td>\n",
       "      <td>0.915278</td>\n",
       "      <td>0.917361</td>\n",
       "      <td>0.902778</td>\n",
       "      <td>0.918750</td>\n",
       "      <td>0.922222</td>\n",
       "    </tr>\n",
       "    <tr>\n",
       "      <th>1</th>\n",
       "      <td>{'learning_rate': 0.1, 'max_depth': 4, 'n_esti...</td>\n",
       "      <td>0.915278</td>\n",
       "      <td>6</td>\n",
       "      <td>0.915972</td>\n",
       "      <td>0.914583</td>\n",
       "      <td>0.904167</td>\n",
       "      <td>0.920833</td>\n",
       "      <td>0.920833</td>\n",
       "    </tr>\n",
       "    <tr>\n",
       "      <th>2</th>\n",
       "      <td>{'learning_rate': 0.1, 'max_depth': 4, 'n_esti...</td>\n",
       "      <td>0.914028</td>\n",
       "      <td>48</td>\n",
       "      <td>0.914583</td>\n",
       "      <td>0.913889</td>\n",
       "      <td>0.900694</td>\n",
       "      <td>0.919444</td>\n",
       "      <td>0.921528</td>\n",
       "    </tr>\n",
       "    <tr>\n",
       "      <th>3</th>\n",
       "      <td>{'learning_rate': 0.1, 'max_depth': 4, 'n_esti...</td>\n",
       "      <td>0.914306</td>\n",
       "      <td>42</td>\n",
       "      <td>0.915972</td>\n",
       "      <td>0.915278</td>\n",
       "      <td>0.899306</td>\n",
       "      <td>0.919444</td>\n",
       "      <td>0.921528</td>\n",
       "    </tr>\n",
       "    <tr>\n",
       "      <th>4</th>\n",
       "      <td>{'learning_rate': 0.1, 'max_depth': 4, 'n_esti...</td>\n",
       "      <td>0.914028</td>\n",
       "      <td>48</td>\n",
       "      <td>0.915278</td>\n",
       "      <td>0.915278</td>\n",
       "      <td>0.900000</td>\n",
       "      <td>0.918056</td>\n",
       "      <td>0.921528</td>\n",
       "    </tr>\n",
       "    <tr>\n",
       "      <th>...</th>\n",
       "      <td>...</td>\n",
       "      <td>...</td>\n",
       "      <td>...</td>\n",
       "      <td>...</td>\n",
       "      <td>...</td>\n",
       "      <td>...</td>\n",
       "      <td>...</td>\n",
       "      <td>...</td>\n",
       "    </tr>\n",
       "    <tr>\n",
       "      <th>79</th>\n",
       "      <td>{'learning_rate': 0.05, 'max_depth': 10, 'n_es...</td>\n",
       "      <td>0.913194</td>\n",
       "      <td>61</td>\n",
       "      <td>0.914583</td>\n",
       "      <td>0.911806</td>\n",
       "      <td>0.898611</td>\n",
       "      <td>0.918750</td>\n",
       "      <td>0.922222</td>\n",
       "    </tr>\n",
       "    <tr>\n",
       "      <th>80</th>\n",
       "      <td>{'learning_rate': 0.05, 'max_depth': 10, 'n_es...</td>\n",
       "      <td>0.913611</td>\n",
       "      <td>57</td>\n",
       "      <td>0.915278</td>\n",
       "      <td>0.911111</td>\n",
       "      <td>0.900000</td>\n",
       "      <td>0.919444</td>\n",
       "      <td>0.922222</td>\n",
       "    </tr>\n",
       "    <tr>\n",
       "      <th>81</th>\n",
       "      <td>{'learning_rate': 0.05, 'max_depth': 10, 'n_es...</td>\n",
       "      <td>0.913194</td>\n",
       "      <td>61</td>\n",
       "      <td>0.914583</td>\n",
       "      <td>0.911806</td>\n",
       "      <td>0.897917</td>\n",
       "      <td>0.919444</td>\n",
       "      <td>0.922222</td>\n",
       "    </tr>\n",
       "    <tr>\n",
       "      <th>82</th>\n",
       "      <td>{'learning_rate': 0.05, 'max_depth': 10, 'n_es...</td>\n",
       "      <td>0.912778</td>\n",
       "      <td>65</td>\n",
       "      <td>0.913889</td>\n",
       "      <td>0.912500</td>\n",
       "      <td>0.897917</td>\n",
       "      <td>0.918750</td>\n",
       "      <td>0.920833</td>\n",
       "    </tr>\n",
       "    <tr>\n",
       "      <th>83</th>\n",
       "      <td>{'learning_rate': 0.05, 'max_depth': 10, 'n_es...</td>\n",
       "      <td>0.912361</td>\n",
       "      <td>68</td>\n",
       "      <td>0.914583</td>\n",
       "      <td>0.911806</td>\n",
       "      <td>0.895833</td>\n",
       "      <td>0.918750</td>\n",
       "      <td>0.920833</td>\n",
       "    </tr>\n",
       "  </tbody>\n",
       "</table>\n",
       "<p>84 rows × 8 columns</p>\n",
       "</div>"
      ],
      "text/plain": [
       "                                               params  mean_test_score  \\\n",
       "0   {'learning_rate': 0.1, 'max_depth': 4, 'n_esti...         0.915278   \n",
       "1   {'learning_rate': 0.1, 'max_depth': 4, 'n_esti...         0.915278   \n",
       "2   {'learning_rate': 0.1, 'max_depth': 4, 'n_esti...         0.914028   \n",
       "3   {'learning_rate': 0.1, 'max_depth': 4, 'n_esti...         0.914306   \n",
       "4   {'learning_rate': 0.1, 'max_depth': 4, 'n_esti...         0.914028   \n",
       "..                                                ...              ...   \n",
       "79  {'learning_rate': 0.05, 'max_depth': 10, 'n_es...         0.913194   \n",
       "80  {'learning_rate': 0.05, 'max_depth': 10, 'n_es...         0.913611   \n",
       "81  {'learning_rate': 0.05, 'max_depth': 10, 'n_es...         0.913194   \n",
       "82  {'learning_rate': 0.05, 'max_depth': 10, 'n_es...         0.912778   \n",
       "83  {'learning_rate': 0.05, 'max_depth': 10, 'n_es...         0.912361   \n",
       "\n",
       "    rank_test_score  split0_test_score  split1_test_score  split2_test_score  \\\n",
       "0                 3           0.915278           0.917361           0.902778   \n",
       "1                 6           0.915972           0.914583           0.904167   \n",
       "2                48           0.914583           0.913889           0.900694   \n",
       "3                42           0.915972           0.915278           0.899306   \n",
       "4                48           0.915278           0.915278           0.900000   \n",
       "..              ...                ...                ...                ...   \n",
       "79               61           0.914583           0.911806           0.898611   \n",
       "80               57           0.915278           0.911111           0.900000   \n",
       "81               61           0.914583           0.911806           0.897917   \n",
       "82               65           0.913889           0.912500           0.897917   \n",
       "83               68           0.914583           0.911806           0.895833   \n",
       "\n",
       "    split3_test_score  split4_test_score  \n",
       "0            0.918750           0.922222  \n",
       "1            0.920833           0.920833  \n",
       "2            0.919444           0.921528  \n",
       "3            0.919444           0.921528  \n",
       "4            0.918056           0.921528  \n",
       "..                ...                ...  \n",
       "79           0.918750           0.922222  \n",
       "80           0.919444           0.922222  \n",
       "81           0.919444           0.922222  \n",
       "82           0.918750           0.920833  \n",
       "83           0.918750           0.920833  \n",
       "\n",
       "[84 rows x 8 columns]"
      ]
     },
     "execution_count": 8,
     "metadata": {},
     "output_type": "execute_result"
    }
   ],
   "source": [
    "scores_df = pd.DataFrame(grid_search.cv_results_)\n",
    "scores_df[['params', 'mean_test_score', 'rank_test_score', 'split0_test_score', \n",
    "           'split1_test_score', 'split2_test_score', 'split3_test_score', 'split4_test_score']]"
   ]
  },
  {
   "cell_type": "markdown",
   "id": "suffering-consumer",
   "metadata": {},
   "source": [
    "### 3. Test the XGBoost model"
   ]
  },
  {
   "cell_type": "code",
   "execution_count": 9,
   "id": "sharp-peripheral",
   "metadata": {},
   "outputs": [],
   "source": [
    "estimator = grid_search.best_estimator_\n",
    "\n",
    "preds = estimator.predict(X_test_scaled)\n",
    "pred_probs = estimator.predict_proba(X_test)"
   ]
  },
  {
   "cell_type": "code",
   "execution_count": 10,
   "id": "cordless-jenny",
   "metadata": {},
   "outputs": [
    {
     "name": "stdout",
     "output_type": "stream",
     "text": [
      "Confusion matrix\n",
      "[[120   0  18  14]\n",
      " [  0 120  15   0]\n",
      " [  2   5 112   1]\n",
      " [  0   0   0 126]]\n",
      "Accuracy:0.8968, Precision:0.9024, Recall:0.9029, F1:0.8970, AUC:0.6630\n"
     ]
    }
   ],
   "source": [
    "get_clf_eval(y_test, preds, pred_probs)"
   ]
  },
  {
   "cell_type": "code",
   "execution_count": 11,
   "id": "plain-temperature",
   "metadata": {},
   "outputs": [
    {
     "data": {
      "text/plain": [
       "<matplotlib.axes._subplots.AxesSubplot at 0x1a10cbd0880>"
      ]
     },
     "execution_count": 11,
     "metadata": {},
     "output_type": "execute_result"
    },
    {
     "data": {
      "image/png": "[encoded data removed]",
      "text/plain": [
       "<Figure size 432x288 with 2 Axes>"
      ]
     },
     "metadata": {
      "needs_background": "light"
     },
     "output_type": "display_data"
    }
   ],
   "source": [
    "import seaborn as sns\n",
    "cf_matrix = confusion_matrix(y_test,preds)\n",
    "\n",
    "group_counts = [\"{0:0.0f}\".format(value) for value in\n",
    "                cf_matrix.flatten()]\n",
    "labels = np.asarray(group_counts).reshape(4,4)\n",
    "sns.heatmap(cf_matrix, annot=labels, fmt='', cmap='Greens')"
   ]
  },
  {
   "cell_type": "code",
   "execution_count": 12,
   "id": "demographic-maintenance",
   "metadata": {},
   "outputs": [
    {
     "name": "stdout",
     "output_type": "stream",
     "text": [
      "              precision    recall  f1-score   support\n",
      "\n",
      "           0     0.9836    0.7895    0.8759       152\n",
      "           1     0.9600    0.8889    0.9231       135\n",
      "           2     0.7724    0.9333    0.8453       120\n",
      "           3     0.8936    1.0000    0.9438       126\n",
      "\n",
      "    accuracy                         0.8968       533\n",
      "   macro avg     0.9024    0.9029    0.8970       533\n",
      "weighted avg     0.9088    0.8968    0.8970       533\n",
      "\n"
     ]
    }
   ],
   "source": [
    "print(metrics.classification_report(y_test, preds, digits=4))"
   ]
  },
  {
   "cell_type": "code",
   "execution_count": 13,
   "id": "lovely-donna",
   "metadata": {},
   "outputs": [
    {
     "data": {
      "text/plain": [
       "Text(0, 0.5, 'PC2')"
      ]
     },
     "execution_count": 13,
     "metadata": {},
     "output_type": "execute_result"
    },
    {
     "data": {
      "image/png": "[encoded data removed]",
      "text/plain": [
       "<Figure size 576x576 with 1 Axes>"
      ]
     },
     "metadata": {
      "needs_background": "light"
     },
     "output_type": "display_data"
    }
   ],
   "source": [
    "import mglearn\n",
    "\n",
    "plt.figure(figsize=(8, 8))\n",
    "mglearn.discrete_scatter(X_test_scaled[:,0], X_test_scaled[:,1], preds)\n",
    "plt.legend([\"GA\", \"HO\", \"LO\", \"QMD\"], loc=\"best\")\n",
    "plt.gca().set_aspect(\"equal\")\n",
    "plt.xlabel(\"PC1\")\n",
    "plt.ylabel(\"PC2\")"
   ]
  }
 ],
 "metadata": {
  "kernelspec": {
   "display_name": "kernel",
   "language": "python",
   "name": "tutorial"
  },
  "language_info": {
   "codemirror_mode": {
    "name": "ipython",
    "version": 3
   },
   "file_extension": ".py",
   "mimetype": "text/x-python",
   "name": "python",
   "nbconvert_exporter": "python",
   "pygments_lexer": "ipython3",
   "version": "3.8.13"
  }
 },
 "nbformat": 4,
 "nbformat_minor": 5
}

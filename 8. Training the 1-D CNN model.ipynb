{
 "cells": [
  {
   "cell_type": "code",
   "execution_count": 1,
   "id": "placed-fantasy",
   "metadata": {},
   "outputs": [],
   "source": [
    "import numpy as np\n",
    "import os\n",
    "import pandas as pd\n",
    "np.random.seed(42)\n",
    "\n",
    "%matplotlib inline\n",
    "import matplotlib\n",
    "import matplotlib.pyplot as plt\n",
    "plt.rcParams['axes.labelsize'] = 14\n",
    "plt.rcParams['xtick.labelsize'] = 12\n",
    "plt.rcParams['ytick.labelsize'] = 12"
   ]
  },
  {
   "cell_type": "code",
   "execution_count": 2,
   "id": "genuine-recipient",
   "metadata": {},
   "outputs": [],
   "source": [
    "from sklearn import metrics\n",
    "from sklearn.metrics import accuracy_score, precision_score, recall_score, confusion_matrix, f1_score, roc_auc_score\n",
    "from keras import layers\n",
    "from keras import models\n",
    "from keras.utils import np_utils\n",
    "from keras.callbacks import ModelCheckpoint, EarlyStopping\n",
    "from tensorflow.keras.models import Sequential\n",
    "import tensorflow as tf\n",
    "from sklearn.preprocessing import StandardScaler\n",
    "from sklearn.model_selection import StratifiedKFold"
   ]
  },
  {
   "cell_type": "code",
   "execution_count": 3,
   "id": "71d01588",
   "metadata": {},
   "outputs": [],
   "source": [
    "def get_clf_eval(y_test,pred=None, pred_proba=None):\n",
    "    confusion = confusion_matrix(y_test,pred)\n",
    "    accuracy = accuracy_score(y_test,pred)\n",
    "    precision = precision_score(y_test,pred, average = 'macro')\n",
    "    recall = recall_score(y_test,pred, average = 'macro')\n",
    "    f1 = f1_score(y_test, pred, average = 'macro')\n",
    "    roc_auc = roc_auc_score(y_test, pred_proba, average = 'macro', multi_class='ovr')\n",
    "    print('Confusion matrix')\n",
    "    print(confusion)\n",
    "    print('Accuracy:{0:.4f}, Precision:{1:.4f}, Recall:{2:.4f}, F1:{3:.4f}, AUC:{4:.4f}'.format(accuracy, precision, recall, f1, roc_auc))"
   ]
  },
  {
   "cell_type": "markdown",
   "id": "bright-importance",
   "metadata": {},
   "source": [
    "### 1. Load train and test data"
   ]
  },
  {
   "cell_type": "code",
   "execution_count": 4,
   "id": "approximate-notion",
   "metadata": {
    "scrolled": false
   },
   "outputs": [],
   "source": [
    "train_data = pd.read_csv(\"data/train_data.csv\")\n",
    "test_data = pd.read_csv(\"data/test_data.csv\")"
   ]
  },
  {
   "cell_type": "code",
   "execution_count": 5,
   "id": "18e4d4e5",
   "metadata": {},
   "outputs": [
    {
     "name": "stdout",
     "output_type": "stream",
     "text": [
      "Encoded labels: [2 1 0 ... 2 2 2]\n"
     ]
    }
   ],
   "source": [
    "from sklearn.preprocessing import LabelEncoder\n",
    "\n",
    "encoder = LabelEncoder()\n",
    "encoder.fit(train_data['Target'])\n",
    "labels = encoder.transform(train_data['Target'])\n",
    "print('Encoded labels:', labels)"
   ]
  },
  {
   "cell_type": "code",
   "execution_count": 6,
   "id": "1d3518b7",
   "metadata": {},
   "outputs": [
    {
     "data": {
      "text/plain": [
       "array(['GA', 'HO', 'LO', 'QMD'], dtype=object)"
      ]
     },
     "execution_count": 6,
     "metadata": {},
     "output_type": "execute_result"
    }
   ],
   "source": [
    "encoder.classes_"
   ]
  },
  {
   "cell_type": "code",
   "execution_count": 7,
   "id": "69592e2d",
   "metadata": {},
   "outputs": [],
   "source": [
    "train_data['Target'] = labels"
   ]
  },
  {
   "cell_type": "markdown",
   "id": "3ff8a7bb",
   "metadata": {},
   "source": [
    "### 2. Reshape the train data"
   ]
  },
  {
   "cell_type": "code",
   "execution_count": 8,
   "id": "2299efca",
   "metadata": {},
   "outputs": [],
   "source": [
    "X_train = train_data.iloc[:,:2048]\n",
    "y_train = train_data.iloc[:,2048]\n",
    "\n",
    "X_test = test_data.iloc[:,:2048]\n",
    "y_test = test_data.iloc[:,2048]"
   ]
  },
  {
   "cell_type": "code",
   "execution_count": 9,
   "id": "monthly-gauge",
   "metadata": {
    "scrolled": true
   },
   "outputs": [],
   "source": [
    "n_features = 2048 \n",
    "n_class = 4\n",
    "\n",
    "X_train_r = np.zeros((len(X_train), n_features, 1))   \n",
    "X_test_r = np.zeros((len(X_test), n_features, 1))"
   ]
  },
  {
   "cell_type": "code",
   "execution_count": 10,
   "id": "059690d2",
   "metadata": {},
   "outputs": [
    {
     "data": {
      "text/plain": [
       "(7200, 2048)"
      ]
     },
     "execution_count": 10,
     "metadata": {},
     "output_type": "execute_result"
    }
   ],
   "source": [
    "X_train.shape"
   ]
  },
  {
   "cell_type": "code",
   "execution_count": 11,
   "id": "closing-reggae",
   "metadata": {
    "scrolled": true
   },
   "outputs": [],
   "source": [
    "X_train_r[:,:,0] = X_train[:]\n",
    "X_test_r[:,:,0] = X_test[:]"
   ]
  },
  {
   "cell_type": "code",
   "execution_count": 12,
   "id": "necessary-blast",
   "metadata": {},
   "outputs": [
    {
     "data": {
      "text/plain": [
       "(7200, 2048, 1)"
      ]
     },
     "execution_count": 12,
     "metadata": {},
     "output_type": "execute_result"
    }
   ],
   "source": [
    "X_train_r.shape"
   ]
  },
  {
   "cell_type": "code",
   "execution_count": 13,
   "id": "solved-estonia",
   "metadata": {
    "scrolled": true
   },
   "outputs": [
    {
     "data": {
      "text/plain": [
       "array([[[ 0.],\n",
       "        [22.],\n",
       "        [31.],\n",
       "        ...,\n",
       "        [ 0.],\n",
       "        [ 0.],\n",
       "        [ 0.]],\n",
       "\n",
       "       [[ 0.],\n",
       "        [11.],\n",
       "        [22.],\n",
       "        ...,\n",
       "        [ 0.],\n",
       "        [ 0.],\n",
       "        [ 0.]],\n",
       "\n",
       "       [[ 0.],\n",
       "        [15.],\n",
       "        [28.],\n",
       "        ...,\n",
       "        [ 0.],\n",
       "        [ 0.],\n",
       "        [ 0.]],\n",
       "\n",
       "       ...,\n",
       "\n",
       "       [[ 0.],\n",
       "        [17.],\n",
       "        [23.],\n",
       "        ...,\n",
       "        [ 0.],\n",
       "        [ 0.],\n",
       "        [ 0.]],\n",
       "\n",
       "       [[ 0.],\n",
       "        [16.],\n",
       "        [23.],\n",
       "        ...,\n",
       "        [ 0.],\n",
       "        [ 0.],\n",
       "        [ 0.]],\n",
       "\n",
       "       [[ 0.],\n",
       "        [14.],\n",
       "        [28.],\n",
       "        ...,\n",
       "        [ 0.],\n",
       "        [ 0.],\n",
       "        [ 0.]]])"
      ]
     },
     "execution_count": 13,
     "metadata": {},
     "output_type": "execute_result"
    }
   ],
   "source": [
    "X_train_r"
   ]
  },
  {
   "cell_type": "markdown",
   "id": "latin-contrary",
   "metadata": {},
   "source": [
    "### 3. Configure the 1-D CNN model"
   ]
  },
  {
   "cell_type": "code",
   "execution_count": 14,
   "id": "ranking-closer",
   "metadata": {
    "scrolled": true
   },
   "outputs": [
    {
     "name": "stdout",
     "output_type": "stream",
     "text": [
      "The order of 5-fold cross-validation: 1\n",
      "Epoch 1/5\n",
      "1152/1152 [==============================] - 9s 8ms/step - loss: 9.4314 - accuracy: 0.8319 - val_loss: 0.1983 - val_accuracy: 0.9500\n",
      "Epoch 2/5\n",
      "1152/1152 [==============================] - 9s 8ms/step - loss: 0.3909 - accuracy: 0.9052 - val_loss: 0.3649 - val_accuracy: 0.9167\n",
      "Epoch 3/5\n",
      "1152/1152 [==============================] - 9s 8ms/step - loss: 0.2637 - accuracy: 0.9253 - val_loss: 0.1220 - val_accuracy: 0.9639\n",
      "Epoch 4/5\n",
      "1152/1152 [==============================] - 9s 8ms/step - loss: 0.2429 - accuracy: 0.9269 - val_loss: 0.1966 - val_accuracy: 0.9347\n",
      "Epoch 5/5\n",
      "1152/1152 [==============================] - 9s 8ms/step - loss: 0.2063 - accuracy: 0.9339 - val_loss: 0.5497 - val_accuracy: 0.8479\n",
      "45/45 [==============================] - 0s 4ms/step - loss: 0.5497 - accuracy: 0.8479\n",
      "The order of 5-fold cross-validation: 2\n",
      "Epoch 1/5\n",
      "1152/1152 [==============================] - 9s 8ms/step - loss: 13.9365 - accuracy: 0.8498 - val_loss: 0.7040 - val_accuracy: 0.8757\n",
      "Epoch 2/5\n",
      "1152/1152 [==============================] - 9s 8ms/step - loss: 0.5369 - accuracy: 0.8951 - val_loss: 0.4169 - val_accuracy: 0.8479\n",
      "Epoch 3/5\n",
      "1152/1152 [==============================] - 9s 8ms/step - loss: 0.2828 - accuracy: 0.9248 - val_loss: 0.4203 - val_accuracy: 0.8799\n",
      "Epoch 4/5\n",
      "1152/1152 [==============================] - 10s 8ms/step - loss: 0.2613 - accuracy: 0.9274 - val_loss: 0.1983 - val_accuracy: 0.9549\n",
      "Epoch 5/5\n",
      "1152/1152 [==============================] - 10s 8ms/step - loss: 0.2130 - accuracy: 0.9415 - val_loss: 0.3144 - val_accuracy: 0.9069\n",
      "45/45 [==============================] - 0s 4ms/step - loss: 0.3144 - accuracy: 0.9069\n",
      "The order of 5-fold cross-validation: 3\n",
      "Epoch 1/5\n",
      "1152/1152 [==============================] - 10s 8ms/step - loss: 13.8989 - accuracy: 0.8394 - val_loss: 0.9320 - val_accuracy: 0.8500\n",
      "Epoch 2/5\n",
      "1152/1152 [==============================] - 9s 8ms/step - loss: 0.4841 - accuracy: 0.9148 - val_loss: 0.1933 - val_accuracy: 0.9458\n",
      "Epoch 3/5\n",
      "1152/1152 [==============================] - 9s 8ms/step - loss: 0.2900 - accuracy: 0.9267 - val_loss: 0.1292 - val_accuracy: 0.9597\n",
      "Epoch 4/5\n",
      "1152/1152 [==============================] - 9s 8ms/step - loss: 0.2306 - accuracy: 0.9351 - val_loss: 0.1126 - val_accuracy: 0.9667\n",
      "Epoch 5/5\n",
      "1152/1152 [==============================] - 9s 8ms/step - loss: 0.1732 - accuracy: 0.9451 - val_loss: 0.1092 - val_accuracy: 0.9639\n",
      "45/45 [==============================] - 0s 4ms/step - loss: 0.1092 - accuracy: 0.9639\n",
      "The order of 5-fold cross-validation: 4\n",
      "Epoch 1/5\n",
      "1152/1152 [==============================] - 9s 8ms/step - loss: 11.5306 - accuracy: 0.8293 - val_loss: 0.5796 - val_accuracy: 0.9160\n",
      "Epoch 2/5\n",
      "1152/1152 [==============================] - 9s 8ms/step - loss: 0.4203 - accuracy: 0.9097 - val_loss: 0.1864 - val_accuracy: 0.9472\n",
      "Epoch 3/5\n",
      "1152/1152 [==============================] - 9s 8ms/step - loss: 0.2633 - accuracy: 0.9252 - val_loss: 0.2045 - val_accuracy: 0.9438\n",
      "Epoch 4/5\n",
      "1152/1152 [==============================] - 10s 8ms/step - loss: 0.2168 - accuracy: 0.9363 - val_loss: 0.2194 - val_accuracy: 0.9354\n",
      "Epoch 5/5\n",
      "1152/1152 [==============================] - 9s 8ms/step - loss: 0.2678 - accuracy: 0.9200 - val_loss: 0.1562 - val_accuracy: 0.9542\n",
      "45/45 [==============================] - 0s 4ms/step - loss: 0.1562 - accuracy: 0.9542\n",
      "The order of 5-fold cross-validation: 5\n",
      "Epoch 1/5\n",
      "1152/1152 [==============================] - 10s 9ms/step - loss: 13.0069 - accuracy: 0.8316 - val_loss: 0.6733 - val_accuracy: 0.9285\n",
      "Epoch 2/5\n",
      "1152/1152 [==============================] - 11s 9ms/step - loss: 0.5245 - accuracy: 0.9227 - val_loss: 0.1913 - val_accuracy: 0.9521\n",
      "Epoch 3/5\n",
      "1152/1152 [==============================] - 10s 9ms/step - loss: 0.2864 - accuracy: 0.9330 - val_loss: 0.1653 - val_accuracy: 0.9493\n",
      "Epoch 4/5\n",
      "1152/1152 [==============================] - 10s 9ms/step - loss: 0.2011 - accuracy: 0.9380 - val_loss: 0.2596 - val_accuracy: 0.9285\n",
      "Epoch 5/5\n",
      "1152/1152 [==============================] - 10s 9ms/step - loss: 0.1882 - accuracy: 0.9392 - val_loss: 0.1166 - val_accuracy: 0.9653\n",
      "45/45 [==============================] - 0s 4ms/step - loss: 0.1166 - accuracy: 0.9653\n"
     ]
    }
   ],
   "source": [
    "from keras.utils import np_utils\n",
    "cross_valid_accuracy = []\n",
    "order = 0\n",
    "\n",
    "# Stratified K-Fold cross validation\n",
    "skf = StratifiedKFold(n_splits=5, shuffle=True, random_state=42)\n",
    "input_shape = (5, 2048, 1)\n",
    "\n",
    "for train, valid in skf.split(X_train_r, y_train):\n",
    "        \n",
    "    order = order + 1\n",
    "        \n",
    "    print(\"The order of 5-fold cross-validation:\", order)\n",
    "        \n",
    "    strat_k_train_set = X_train_r[train]\n",
    "    strat_k_valid_set = X_train_r[valid]\n",
    "\n",
    "    # X_train, y_train, X_valid, y_valid \n",
    "    X_train_f = X_train_r[train]\n",
    "    X_valid_f = X_train_r[valid]\n",
    "    y_train_f = y_train[train]\n",
    "    y_valid_f = y_train[valid]\n",
    "        \n",
    "        \n",
    "    y_train_encoded = np_utils.to_categorical(y_train_f, n_class)\n",
    "    y_valid_encoded = np_utils.to_categorical(y_valid_f, n_class)\n",
    "    \n",
    "    model = Sequential()\n",
    "    model.add(layers.Conv1D(32, 3, input_shape =input_shape[1:], activation='relu'))\n",
    "    model.add(layers.MaxPooling1D(pool_size=2))\n",
    "    model.add(layers.Dropout(0.4))\n",
    "    model.add(layers.Flatten())\n",
    "    model.add(layers.Dense(64, activation='relu'))\n",
    "    model.add(layers.Dense(32, activation='relu'))\n",
    "    model.add(layers.Dense(4, activation='softmax'))\n",
    "    model.compile(loss='categorical_crossentropy', optimizer='adam', metrics=['accuracy'])\n",
    "    early_stopping_callback = EarlyStopping(monitor='loss', patience=100) #verbose=0\n",
    "    \n",
    "    model.fit(X_train_f,y_train_encoded, validation_data=(X_valid_f, y_valid_encoded), epochs=5, \n",
    "            batch_size=5, callbacks=[early_stopping_callback])\n",
    "    accuracy = model.evaluate(X_valid_f,y_valid_encoded)[1]\n",
    "    cross_valid_accuracy.append(accuracy)"
   ]
  },
  {
   "cell_type": "code",
   "execution_count": 15,
   "id": "enhanced-plumbing",
   "metadata": {
    "scrolled": true
   },
   "outputs": [
    {
     "name": "stdout",
     "output_type": "stream",
     "text": [
      "Model: \"sequential_4\"\n",
      "_________________________________________________________________\n",
      "Layer (type)                 Output Shape              Param #   \n",
      "=================================================================\n",
      "conv1d_4 (Conv1D)            (None, 2046, 32)          128       \n",
      "_________________________________________________________________\n",
      "max_pooling1d_4 (MaxPooling1 (None, 1023, 32)          0         \n",
      "_________________________________________________________________\n",
      "dropout_4 (Dropout)          (None, 1023, 32)          0         \n",
      "_________________________________________________________________\n",
      "flatten_4 (Flatten)          (None, 32736)             0         \n",
      "_________________________________________________________________\n",
      "dense_12 (Dense)             (None, 64)                2095168   \n",
      "_________________________________________________________________\n",
      "dense_13 (Dense)             (None, 32)                2080      \n",
      "_________________________________________________________________\n",
      "dense_14 (Dense)             (None, 4)                 132       \n",
      "=================================================================\n",
      "Total params: 2,097,508\n",
      "Trainable params: 2,097,508\n",
      "Non-trainable params: 0\n",
      "_________________________________________________________________\n"
     ]
    }
   ],
   "source": [
    "model.summary()"
   ]
  },
  {
   "cell_type": "code",
   "execution_count": 16,
   "id": "hearing-delta",
   "metadata": {},
   "outputs": [
    {
     "data": {
      "text/plain": [
       "[0.8479166626930237,\n",
       " 0.9069444537162781,\n",
       " 0.9638888835906982,\n",
       " 0.9541666507720947,\n",
       " 0.9652777910232544]"
      ]
     },
     "execution_count": 16,
     "metadata": {},
     "output_type": "execute_result"
    }
   ],
   "source": [
    "cross_valid_accuracy"
   ]
  },
  {
   "cell_type": "code",
   "execution_count": 17,
   "id": "copyrighted-setting",
   "metadata": {},
   "outputs": [
    {
     "data": {
      "text/plain": [
       "0.9276388883590698"
      ]
     },
     "execution_count": 17,
     "metadata": {},
     "output_type": "execute_result"
    }
   ],
   "source": [
    "# mean of cross validation accuracy\n",
    "np.mean(cross_valid_accuracy)"
   ]
  },
  {
   "cell_type": "markdown",
   "id": "toxic-dominant",
   "metadata": {},
   "source": [
    "### 3. Test the 1-D CNN model"
   ]
  },
  {
   "cell_type": "code",
   "execution_count": 18,
   "id": "outdoor-representative",
   "metadata": {
    "scrolled": false
   },
   "outputs": [
    {
     "name": "stdout",
     "output_type": "stream",
     "text": [
      "Epoch 1/5\n",
      "1440/1440 [==============================] - 11s 8ms/step - loss: 0.1965 - accuracy: 0.9381\n",
      "Epoch 2/5\n",
      "1440/1440 [==============================] - 12s 8ms/step - loss: 0.2118 - accuracy: 0.9314\n",
      "Epoch 3/5\n",
      "1440/1440 [==============================] - 11s 8ms/step - loss: 0.1538 - accuracy: 0.9488\n",
      "Epoch 4/5\n",
      "1440/1440 [==============================] - 11s 8ms/step - loss: 0.1204 - accuracy: 0.9603\n",
      "Epoch 5/5\n",
      "1440/1440 [==============================] - 12s 8ms/step - loss: 0.1345 - accuracy: 0.9583\n",
      "17/17 [==============================] - 0s 4ms/step - loss: 0.2094 - accuracy: 0.9343\n",
      "accuracy for predicting test data: 0.9343\n"
     ]
    }
   ],
   "source": [
    "y_train_encoded = np_utils.to_categorical(y_train, n_class)\n",
    "y_test_encoded = np_utils.to_categorical(y_test, n_class)\n",
    "\n",
    "model.fit(X_train_r,y_train_encoded, epochs=5, batch_size=5, callbacks=[early_stopping_callback])\n",
    "accuracy = model.evaluate(X_test_r,y_test_encoded)[1]\n",
    "\n",
    "print(\"accuracy for predicting test data: {:.4f}\".format(accuracy)) "
   ]
  },
  {
   "cell_type": "code",
   "execution_count": 19,
   "id": "latin-faith",
   "metadata": {},
   "outputs": [
    {
     "name": "stdout",
     "output_type": "stream",
     "text": [
      "Confusion matrix\n",
      "[[142   0   0  10]\n",
      " [  0 132   3   0]\n",
      " [ 11   5 104   0]\n",
      " [  6   0   0 120]]\n",
      "Accuracy:0.9343, Precision:0.9379, Recall:0.9328, F1:0.9344, AUC:0.9928\n"
     ]
    }
   ],
   "source": [
    "preds = model.predict(X_test_r)\n",
    "preds_decod = np.argmax(preds, axis=1).reshape(-1,1)\n",
    "get_clf_eval(y_test, preds_decod, preds)"
   ]
  },
  {
   "cell_type": "code",
   "execution_count": 20,
   "id": "1501ce07",
   "metadata": {},
   "outputs": [
    {
     "name": "stdout",
     "output_type": "stream",
     "text": [
      "              precision    recall  f1-score   support\n",
      "\n",
      "           0     0.8931    0.9342    0.9132       152\n",
      "           1     0.9635    0.9778    0.9706       135\n",
      "           2     0.9720    0.8667    0.9163       120\n",
      "           3     0.9231    0.9524    0.9375       126\n",
      "\n",
      "    accuracy                         0.9343       533\n",
      "   macro avg     0.9379    0.9328    0.9344       533\n",
      "weighted avg     0.9358    0.9343    0.9342       533\n",
      "\n"
     ]
    }
   ],
   "source": [
    "print(metrics.classification_report(y_test, preds_decod, digits=4))"
   ]
  },
  {
   "cell_type": "code",
   "execution_count": 21,
   "id": "236c26a1",
   "metadata": {},
   "outputs": [],
   "source": [
    "test_preds = preds_decod.reshape(-1)"
   ]
  },
  {
   "cell_type": "markdown",
   "id": "6469d6c4",
   "metadata": {},
   "source": [
    "### 4. Visualize the results "
   ]
  },
  {
   "cell_type": "code",
   "execution_count": 22,
   "id": "82079cbc",
   "metadata": {},
   "outputs": [],
   "source": [
    "from sklearn.decomposition import PCA\n",
    "pca = PCA(n_components=2)\n",
    "X_reduced = pca.fit_transform(X_train)\n",
    "X_test_reduced = pca.transform(X_test)\n",
    "\n",
    "from sklearn.preprocessing import StandardScaler\n",
    "\n",
    "X_train_scaled = StandardScaler().fit_transform(X_reduced)\n",
    "X_test_scaled = StandardScaler().fit_transform(X_test_reduced)"
   ]
  },
  {
   "cell_type": "code",
   "execution_count": 23,
   "id": "f2fc340f",
   "metadata": {},
   "outputs": [
    {
     "data": {
      "text/plain": [
       "(array([-2. , -1.5, -1. , -0.5,  0. ,  0.5,  1. ,  1.5,  2. ,  2.5]),\n",
       " <a list of 10 Text xticklabel objects>)"
      ]
     },
     "execution_count": 23,
     "metadata": {},
     "output_type": "execute_result"
    },
    {
     "data": {
      "image/png": "[encoded data removed]",
      "text/plain": [
       "<Figure size 576x576 with 1 Axes>"
      ]
     },
     "metadata": {
      "needs_background": "light"
     },
     "output_type": "display_data"
    }
   ],
   "source": [
    "import mglearn\n",
    "\n",
    "plt.figure(figsize=(8, 8))\n",
    "mglearn.discrete_scatter(X_test_scaled[:,0], X_test_scaled[:,1], test_preds)\n",
    "plt.legend([\"GA\", \"HO\", \"LO\", \"QMD\"], loc=\"best\")\n",
    "plt.gca().set_aspect(\"equal\")\n",
    "plt.xlabel(\"PC1\")\n",
    "plt.ylabel(\"PC2\")\n",
    "plt.xticks(fontsize=10)"
   ]
  }
 ],
 "metadata": {
  "kernelspec": {
   "display_name": "kernel",
   "language": "python",
   "name": "tutorial"
  },
  "language_info": {
   "codemirror_mode": {
    "name": "ipython",
    "version": 3
   },
   "file_extension": ".py",
   "mimetype": "text/x-python",
   "name": "python",
   "nbconvert_exporter": "python",
   "pygments_lexer": "ipython3",
   "version": "3.8.13"
  }
 },
 "nbformat": 4,
 "nbformat_minor": 5
}

{
 "cells": [
  {
   "cell_type": "code",
   "execution_count": 1,
   "id": "separate-playback",
   "metadata": {},
   "outputs": [],
   "source": [
    "import numpy as np\n",
    "import os\n",
    "import pandas as pd\n",
    "np.random.seed(42)\n",
    "\n",
    "%matplotlib inline\n",
    "import matplotlib\n",
    "import matplotlib.pyplot as plt\n",
    "plt.rcParams['axes.labelsize'] = 14\n",
    "plt.rcParams['xtick.labelsize'] = 12\n",
    "plt.rcParams['ytick.labelsize'] = 12"
   ]
  },
  {
   "cell_type": "code",
   "execution_count": 2,
   "id": "international-taxation",
   "metadata": {},
   "outputs": [],
   "source": [
    "from sklearn import metrics\n",
    "from sklearn.metrics import accuracy_score, precision_score, recall_score, confusion_matrix, f1_score, roc_auc_score\n",
    "from sklearn.preprocessing import StandardScaler\n",
    "from lightgbm import LGBMClassifier\n",
    "from lightgbm import plot_importance\n",
    "from sklearn.model_selection import GridSearchCV"
   ]
  },
  {
   "cell_type": "code",
   "execution_count": 3,
   "id": "65f8b481",
   "metadata": {},
   "outputs": [],
   "source": [
    "def get_clf_eval(y_test,pred=None, pred_proba=None):\n",
    "    confusion = confusion_matrix(y_test,pred)\n",
    "    accuracy = accuracy_score(y_test,pred)\n",
    "    precision = precision_score(y_test,pred, average = 'macro')\n",
    "    recall = recall_score(y_test,pred, average = 'macro')\n",
    "    f1 = f1_score(y_test, pred, average = 'macro')\n",
    "    roc_auc = roc_auc_score(y_test, pred_proba, average = 'macro', multi_class='ovr')\n",
    "    print('Confusion matrix')\n",
    "    print(confusion)\n",
    "    print('Accuracy:{0:.4f}, Precision:{1:.4f}, Recall:{2:.4f}, F1:{3:.4f}, AUC:{4:.4f}'.format(accuracy, precision, recall, f1, roc_auc))"
   ]
  },
  {
   "cell_type": "markdown",
   "id": "changing-electron",
   "metadata": {},
   "source": [
    "### 1. Load train and test data"
   ]
  },
  {
   "cell_type": "code",
   "execution_count": 4,
   "id": "molecular-waterproof",
   "metadata": {},
   "outputs": [],
   "source": [
    "train_data = pd.read_csv(\"data/train_data_PCA.csv\", header=None)\n",
    "test_data = pd.read_csv(\"data/test_data_PCA.csv\", header=None)\n",
    "\n",
    "X_train = train_data.iloc[:,:2]\n",
    "y_train = train_data.iloc[:,2]\n",
    "\n",
    "X_test = test_data.iloc[:,:2]\n",
    "y_test = test_data.iloc[:,2]\n",
    "\n",
    "X_train_scaled = StandardScaler().fit_transform(X_train)\n",
    "X_test_scaled = StandardScaler().fit_transform(X_test)"
   ]
  },
  {
   "cell_type": "markdown",
   "id": "exact-mozambique",
   "metadata": {},
   "source": [
    "### 2. Train the LightGBM model"
   ]
  },
  {
   "cell_type": "code",
   "execution_count": 5,
   "id": "physical-comfort",
   "metadata": {},
   "outputs": [],
   "source": [
    "lgbm_clf = LGBMClassifier(objective = 'multi:softmax', num_class='4')\n",
    "\n",
    "params = {'max_depth': [10, 110, 10],\n",
    "          'num_leaves': [32, 64],\n",
    "          'min_child_samples': [60,100],\n",
    "          'min_child_weight' : [1,3],\n",
    "          'colsample_bytree' : [0.5,0.75],\n",
    "          'n_estimators' : range(40, 440, 40)}"
   ]
  },
  {
   "cell_type": "code",
   "execution_count": 6,
   "id": "oriental-gates",
   "metadata": {},
   "outputs": [],
   "source": [
    "grid_search = GridSearchCV(estimator = lgbm_clf, param_grid=params, scoring = 'accuracy', n_jobs=-1, cv = 5, verbose=True)"
   ]
  },
  {
   "cell_type": "code",
   "execution_count": 7,
   "id": "orange-pavilion",
   "metadata": {},
   "outputs": [
    {
     "name": "stdout",
     "output_type": "stream",
     "text": [
      "Fitting 5 folds for each of 480 candidates, totalling 2400 fits\n"
     ]
    },
    {
     "data": {
      "text/plain": [
       "GridSearchCV(cv=5,\n",
       "             estimator=LGBMClassifier(num_class='4', objective='multi:softmax'),\n",
       "             n_jobs=-1,\n",
       "             param_grid={'colsample_bytree': [0.5, 0.75],\n",
       "                         'max_depth': [10, 110, 10],\n",
       "                         'min_child_samples': [60, 100],\n",
       "                         'min_child_weight': [1, 3],\n",
       "                         'n_estimators': range(40, 440, 40),\n",
       "                         'num_leaves': [32, 64]},\n",
       "             scoring='accuracy', verbose=True)"
      ]
     },
     "execution_count": 7,
     "metadata": {},
     "output_type": "execute_result"
    }
   ],
   "source": [
    "grid_search.fit(X_train_scaled, y_train)"
   ]
  },
  {
   "cell_type": "code",
   "execution_count": 8,
   "id": "martial-samuel",
   "metadata": {
    "scrolled": true
   },
   "outputs": [
    {
     "data": {
      "text/html": [
       "<div>\n",
       "<style scoped>\n",
       "    .dataframe tbody tr th:only-of-type {\n",
       "        vertical-align: middle;\n",
       "    }\n",
       "\n",
       "    .dataframe tbody tr th {\n",
       "        vertical-align: top;\n",
       "    }\n",
       "\n",
       "    .dataframe thead th {\n",
       "        text-align: right;\n",
       "    }\n",
       "</style>\n",
       "<table border=\"1\" class=\"dataframe\">\n",
       "  <thead>\n",
       "    <tr style=\"text-align: right;\">\n",
       "      <th></th>\n",
       "      <th>params</th>\n",
       "      <th>mean_test_score</th>\n",
       "      <th>rank_test_score</th>\n",
       "      <th>split0_test_score</th>\n",
       "      <th>split1_test_score</th>\n",
       "      <th>split2_test_score</th>\n",
       "      <th>split3_test_score</th>\n",
       "      <th>split4_test_score</th>\n",
       "    </tr>\n",
       "  </thead>\n",
       "  <tbody>\n",
       "    <tr>\n",
       "      <th>0</th>\n",
       "      <td>{'colsample_bytree': 0.5, 'max_depth': 10, 'mi...</td>\n",
       "      <td>0.632778</td>\n",
       "      <td>259</td>\n",
       "      <td>0.643056</td>\n",
       "      <td>0.643056</td>\n",
       "      <td>0.613889</td>\n",
       "      <td>0.632639</td>\n",
       "      <td>0.631250</td>\n",
       "    </tr>\n",
       "    <tr>\n",
       "      <th>1</th>\n",
       "      <td>{'colsample_bytree': 0.5, 'max_depth': 10, 'mi...</td>\n",
       "      <td>0.633333</td>\n",
       "      <td>255</td>\n",
       "      <td>0.640278</td>\n",
       "      <td>0.645139</td>\n",
       "      <td>0.613194</td>\n",
       "      <td>0.632639</td>\n",
       "      <td>0.635417</td>\n",
       "    </tr>\n",
       "    <tr>\n",
       "      <th>2</th>\n",
       "      <td>{'colsample_bytree': 0.5, 'max_depth': 10, 'mi...</td>\n",
       "      <td>0.629583</td>\n",
       "      <td>272</td>\n",
       "      <td>0.632639</td>\n",
       "      <td>0.636806</td>\n",
       "      <td>0.613889</td>\n",
       "      <td>0.627778</td>\n",
       "      <td>0.636806</td>\n",
       "    </tr>\n",
       "    <tr>\n",
       "      <th>3</th>\n",
       "      <td>{'colsample_bytree': 0.5, 'max_depth': 10, 'mi...</td>\n",
       "      <td>0.628889</td>\n",
       "      <td>281</td>\n",
       "      <td>0.630556</td>\n",
       "      <td>0.637500</td>\n",
       "      <td>0.614583</td>\n",
       "      <td>0.626389</td>\n",
       "      <td>0.635417</td>\n",
       "    </tr>\n",
       "    <tr>\n",
       "      <th>4</th>\n",
       "      <td>{'colsample_bytree': 0.5, 'max_depth': 10, 'mi...</td>\n",
       "      <td>0.624444</td>\n",
       "      <td>306</td>\n",
       "      <td>0.619444</td>\n",
       "      <td>0.633333</td>\n",
       "      <td>0.616667</td>\n",
       "      <td>0.622917</td>\n",
       "      <td>0.629861</td>\n",
       "    </tr>\n",
       "    <tr>\n",
       "      <th>...</th>\n",
       "      <td>...</td>\n",
       "      <td>...</td>\n",
       "      <td>...</td>\n",
       "      <td>...</td>\n",
       "      <td>...</td>\n",
       "      <td>...</td>\n",
       "      <td>...</td>\n",
       "      <td>...</td>\n",
       "    </tr>\n",
       "    <tr>\n",
       "      <th>475</th>\n",
       "      <td>{'colsample_bytree': 0.75, 'max_depth': 10, 'm...</td>\n",
       "      <td>0.903333</td>\n",
       "      <td>125</td>\n",
       "      <td>0.894444</td>\n",
       "      <td>0.900694</td>\n",
       "      <td>0.895139</td>\n",
       "      <td>0.909722</td>\n",
       "      <td>0.916667</td>\n",
       "    </tr>\n",
       "    <tr>\n",
       "      <th>476</th>\n",
       "      <td>{'colsample_bytree': 0.75, 'max_depth': 10, 'm...</td>\n",
       "      <td>0.900833</td>\n",
       "      <td>168</td>\n",
       "      <td>0.895139</td>\n",
       "      <td>0.900000</td>\n",
       "      <td>0.893056</td>\n",
       "      <td>0.906250</td>\n",
       "      <td>0.909722</td>\n",
       "    </tr>\n",
       "    <tr>\n",
       "      <th>477</th>\n",
       "      <td>{'colsample_bytree': 0.75, 'max_depth': 10, 'm...</td>\n",
       "      <td>0.902500</td>\n",
       "      <td>138</td>\n",
       "      <td>0.895139</td>\n",
       "      <td>0.899306</td>\n",
       "      <td>0.893750</td>\n",
       "      <td>0.907639</td>\n",
       "      <td>0.916667</td>\n",
       "    </tr>\n",
       "    <tr>\n",
       "      <th>478</th>\n",
       "      <td>{'colsample_bytree': 0.75, 'max_depth': 10, 'm...</td>\n",
       "      <td>0.900278</td>\n",
       "      <td>176</td>\n",
       "      <td>0.895139</td>\n",
       "      <td>0.898611</td>\n",
       "      <td>0.892361</td>\n",
       "      <td>0.905556</td>\n",
       "      <td>0.909722</td>\n",
       "    </tr>\n",
       "    <tr>\n",
       "      <th>479</th>\n",
       "      <td>{'colsample_bytree': 0.75, 'max_depth': 10, 'm...</td>\n",
       "      <td>0.900972</td>\n",
       "      <td>162</td>\n",
       "      <td>0.893750</td>\n",
       "      <td>0.898611</td>\n",
       "      <td>0.893056</td>\n",
       "      <td>0.904861</td>\n",
       "      <td>0.914583</td>\n",
       "    </tr>\n",
       "  </tbody>\n",
       "</table>\n",
       "<p>480 rows × 8 columns</p>\n",
       "</div>"
      ],
      "text/plain": [
       "                                                params  mean_test_score  \\\n",
       "0    {'colsample_bytree': 0.5, 'max_depth': 10, 'mi...         0.632778   \n",
       "1    {'colsample_bytree': 0.5, 'max_depth': 10, 'mi...         0.633333   \n",
       "2    {'colsample_bytree': 0.5, 'max_depth': 10, 'mi...         0.629583   \n",
       "3    {'colsample_bytree': 0.5, 'max_depth': 10, 'mi...         0.628889   \n",
       "4    {'colsample_bytree': 0.5, 'max_depth': 10, 'mi...         0.624444   \n",
       "..                                                 ...              ...   \n",
       "475  {'colsample_bytree': 0.75, 'max_depth': 10, 'm...         0.903333   \n",
       "476  {'colsample_bytree': 0.75, 'max_depth': 10, 'm...         0.900833   \n",
       "477  {'colsample_bytree': 0.75, 'max_depth': 10, 'm...         0.902500   \n",
       "478  {'colsample_bytree': 0.75, 'max_depth': 10, 'm...         0.900278   \n",
       "479  {'colsample_bytree': 0.75, 'max_depth': 10, 'm...         0.900972   \n",
       "\n",
       "     rank_test_score  split0_test_score  split1_test_score  split2_test_score  \\\n",
       "0                259           0.643056           0.643056           0.613889   \n",
       "1                255           0.640278           0.645139           0.613194   \n",
       "2                272           0.632639           0.636806           0.613889   \n",
       "3                281           0.630556           0.637500           0.614583   \n",
       "4                306           0.619444           0.633333           0.616667   \n",
       "..               ...                ...                ...                ...   \n",
       "475              125           0.894444           0.900694           0.895139   \n",
       "476              168           0.895139           0.900000           0.893056   \n",
       "477              138           0.895139           0.899306           0.893750   \n",
       "478              176           0.895139           0.898611           0.892361   \n",
       "479              162           0.893750           0.898611           0.893056   \n",
       "\n",
       "     split3_test_score  split4_test_score  \n",
       "0             0.632639           0.631250  \n",
       "1             0.632639           0.635417  \n",
       "2             0.627778           0.636806  \n",
       "3             0.626389           0.635417  \n",
       "4             0.622917           0.629861  \n",
       "..                 ...                ...  \n",
       "475           0.909722           0.916667  \n",
       "476           0.906250           0.909722  \n",
       "477           0.907639           0.916667  \n",
       "478           0.905556           0.909722  \n",
       "479           0.904861           0.914583  \n",
       "\n",
       "[480 rows x 8 columns]"
      ]
     },
     "execution_count": 8,
     "metadata": {},
     "output_type": "execute_result"
    }
   ],
   "source": [
    "scores_df = pd.DataFrame(grid_search.cv_results_)\n",
    "scores_df[['params', 'mean_test_score', 'rank_test_score', 'split0_test_score', \n",
    "           'split1_test_score', 'split2_test_score', 'split3_test_score', 'split4_test_score']]"
   ]
  },
  {
   "cell_type": "code",
   "execution_count": 9,
   "id": "informed-cabin",
   "metadata": {},
   "outputs": [
    {
     "name": "stdout",
     "output_type": "stream",
     "text": [
      "GridSearchCV optimal paramters: {'colsample_bytree': 0.75, 'max_depth': 10, 'min_child_samples': 100, 'min_child_weight': 1, 'n_estimators': 40, 'num_leaves': 64}\n",
      "GridSearchCV the highest accuracy:0.9140\n"
     ]
    }
   ],
   "source": [
    "print(\"GridSearchCV optimal paramters:\", grid_search.best_params_)\n",
    "print(\"GridSearchCV the highest accuracy:{0:.4f}\".format(grid_search.best_score_))"
   ]
  },
  {
   "cell_type": "markdown",
   "id": "alpine-marker",
   "metadata": {},
   "source": [
    "### 3. Test the LightGBM model"
   ]
  },
  {
   "cell_type": "code",
   "execution_count": 10,
   "id": "involved-monitor",
   "metadata": {},
   "outputs": [],
   "source": [
    "estimator = grid_search.best_estimator_\n",
    "\n",
    "preds = estimator.predict(X_test_scaled)\n",
    "pred_probs = estimator.predict_proba(X_test_scaled)"
   ]
  },
  {
   "cell_type": "code",
   "execution_count": 11,
   "id": "weird-ownership",
   "metadata": {},
   "outputs": [
    {
     "name": "stdout",
     "output_type": "stream",
     "text": [
      "Confusion matrix\n",
      "[[114   0  28  10]\n",
      " [  0 122  13   0]\n",
      " [  2   5 112   1]\n",
      " [  0   0   0 126]]\n",
      "Accuracy:0.8893, Precision:0.8988, Recall:0.8968, F1:0.8902, AUC:0.9828\n"
     ]
    }
   ],
   "source": [
    "get_clf_eval(y_test, preds, pred_probs)"
   ]
  },
  {
   "cell_type": "code",
   "execution_count": 12,
   "id": "fewer-fishing",
   "metadata": {
    "scrolled": true
   },
   "outputs": [
    {
     "data": {
      "text/plain": [
       "<matplotlib.axes._subplots.AxesSubplot at 0x1bdc897a580>"
      ]
     },
     "execution_count": 12,
     "metadata": {},
     "output_type": "execute_result"
    },
    {
     "data": {
      "image/png": "[encoded data removed]",
      "text/plain": [
       "<Figure size 432x288 with 2 Axes>"
      ]
     },
     "metadata": {
      "needs_background": "light"
     },
     "output_type": "display_data"
    }
   ],
   "source": [
    "import seaborn as sns\n",
    "cf_matrix = confusion_matrix(y_test,preds)\n",
    "\n",
    "group_counts = [\"{0:0.0f}\".format(value) for value in\n",
    "                cf_matrix.flatten()]\n",
    "labels = np.asarray(group_counts).reshape(4,4)\n",
    "sns.heatmap(cf_matrix, annot=labels, fmt='', cmap='Greens')"
   ]
  },
  {
   "cell_type": "code",
   "execution_count": 13,
   "id": "aquatic-alfred",
   "metadata": {},
   "outputs": [
    {
     "name": "stdout",
     "output_type": "stream",
     "text": [
      "              precision    recall  f1-score   support\n",
      "\n",
      "           0     0.9828    0.7500    0.8507       152\n",
      "           1     0.9606    0.9037    0.9313       135\n",
      "           2     0.7320    0.9333    0.8205       120\n",
      "           3     0.9197    1.0000    0.9582       126\n",
      "\n",
      "    accuracy                         0.8893       533\n",
      "   macro avg     0.8988    0.8968    0.8902       533\n",
      "weighted avg     0.9058    0.8893    0.8897       533\n",
      "\n"
     ]
    }
   ],
   "source": [
    "print(metrics.classification_report(y_test, preds, digits=4))"
   ]
  },
  {
   "cell_type": "code",
   "execution_count": 15,
   "id": "respected-chancellor",
   "metadata": {},
   "outputs": [
    {
     "data": {
      "text/plain": [
       "Text(0, 0.5, 'PC2')"
      ]
     },
     "execution_count": 15,
     "metadata": {},
     "output_type": "execute_result"
    },
    {
     "data": {
      "image/png": "[encoded data removed]",
      "text/plain": [
       "<Figure size 576x576 with 1 Axes>"
      ]
     },
     "metadata": {
      "needs_background": "light"
     },
     "output_type": "display_data"
    }
   ],
   "source": [
    "import mglearn\n",
    "\n",
    "plt.figure(figsize=(8, 8))\n",
    "mglearn.discrete_scatter(X_test_scaled[:,0], X_test_scaled[:,1], preds)\n",
    "plt.legend([\"GA\", \"HO\", \"LO\", \"QMD\"], loc=\"best\")\n",
    "plt.gca().set_aspect(\"equal\")\n",
    "plt.xlabel(\"PC1\")\n",
    "plt.ylabel(\"PC2\")"
   ]
  }
 ],
 "metadata": {
  "kernelspec": {
   "display_name": "kernel",
   "language": "python",
   "name": "tutorial"
  },
  "language_info": {
   "codemirror_mode": {
    "name": "ipython",
    "version": 3
   },
   "file_extension": ".py",
   "mimetype": "text/x-python",
   "name": "python",
   "nbconvert_exporter": "python",
   "pygments_lexer": "ipython3",
   "version": "3.8.13"
  }
 },
 "nbformat": 4,
 "nbformat_minor": 5
}
